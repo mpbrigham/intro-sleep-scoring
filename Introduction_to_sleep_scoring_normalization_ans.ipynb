{
 "cells": [
  {
   "cell_type": "markdown",
   "metadata": {
    "colab_type": "text",
    "id": "vHrgZ1v6-rWG"
   },
   "source": [
    "## Morpheo baseline project\n",
    "# Introduction to sleep scoring - Normalization methods (answers)\n",
    "[Colaboratory version](https://colab.research.google.com/drive/1WvblQqLAEgWMzlH5rsPUipbJ5APXHgXV)"
   ]
  },
  {
   "cell_type": "markdown",
   "metadata": {
    "colab_type": "text",
    "id": "nhOCZABJ-rWG"
   },
   "source": [
    "Please execute the cell bellow to initialize the notebook environment"
   ]
  },
  {
   "cell_type": "code",
   "execution_count": 1,
   "metadata": {
    "colab": {},
    "colab_type": "code",
    "id": "AMIGIf0k-rWH"
   },
   "outputs": [],
   "source": [
    "import numpy as np\n",
    "import scipy as sp\n",
    "import matplotlib.pyplot as plt\n",
    "\n",
    "fig_w, fig_h = (4.5, 3.5)\n",
    "plt.rcParams.update({'figure.figsize': (fig_w, fig_h)})"
   ]
  },
  {
   "cell_type": "markdown",
   "metadata": {
    "colab_type": "text",
    "id": "Oi82aFH_x7mU"
   },
   "source": [
    "Please execute the cell bellow to download the dataset."
   ]
  },
  {
   "cell_type": "code",
   "execution_count": null,
   "metadata": {
    "colab": {
     "base_uri": "https://localhost:8080/",
     "height": 241
    },
    "colab_type": "code",
    "id": "1P5Gu-Okwcdr",
    "outputId": "0ca8428c-4fe3-445b-9d08-63cc851932f7"
   },
   "outputs": [],
   "source": [
    "!rm -rf datasets intro-sleep-scoring\n",
    "!if [ ! -d datasets ]; then git clone https://github.com/mpbrigham/intro-sleep-scoring; \\\n",
    "                            cp -rf ./intro-sleep-scoring/* ./; fi\n",
    "  \n",
    "import sleep_utils"
   ]
  },
  {
   "cell_type": "markdown",
   "metadata": {
    "colab_type": "text",
    "id": "Hz8J8pvO-rWL"
   },
   "source": [
    "## Import dataset\n",
    "Import the dataset into dictionary `dataset` with keys `channels` and `hypnogram` for PSG and hypnogram data, respectively. The PSG data is stored with shape `(epochs, channels, samples)`. \n",
    "\n",
    "**Suggestions**\n",
    "* Open HDF5 database `mesa_sleep_0001_s.h5`\n",
    "* Print table names and shapes\n",
    "\n",
    "**Refs**\n",
    "* h5py: HDF5 for Python (http://docs.h5py.org/en/latest)"
   ]
  },
  {
   "cell_type": "markdown",
   "metadata": {
    "colab_type": "text",
    "id": "RkDjdueNsKC1"
   },
   "source": []
  },
  {
   "cell_type": "code",
   "execution_count": 7,
   "metadata": {
    "colab": {
     "base_uri": "https://localhost:8080/",
     "height": 197
    },
    "colab_type": "code",
    "id": "M1RGC5RF-rWL",
    "outputId": "5eefacad-eda8-4ec0-a158-1bbd1b5ccf2d"
   },
   "outputs": [
    {
     "name": "stdout",
     "output_type": "stream",
     "text": [
      "processing 6 records in folder ./datasets/mesa_small \n",
      "\n",
      "mesa_sleep_0014_s\n",
      "mesa_sleep_0002_s\n",
      "mesa_sleep_0006_s\n",
      "mesa_sleep_0021_s\n",
      "mesa_sleep_0001_s\n",
      "mesa_sleep_0016_s\n",
      "\n",
      "Imported 6 records\n"
     ]
    }
   ],
   "source": [
    "import sleep_utils\n",
    "import importlib\n",
    "importlib.reload(sleep_utils)\n",
    "\n",
    "path = './datasets/mesa_small'\n",
    "channels_ref = ['EEG1', 'EEG2', 'EEG3']\n",
    "\n",
    "dataset = sleep_utils.load_dataset(path, channels_ref=channels_ref)"
   ]
  },
  {
   "cell_type": "markdown",
   "metadata": {
    "colab_type": "text",
    "id": "kZfNRiZU-rWQ"
   },
   "source": [
    "**EXPECTED OUTPUT**\n",
    "```\n",
    "processing 6 records in folder ./datasets/mesa_small \n",
    "\n",
    "mesa_sleep_0021_s\n",
    "mesa_sleep_0016_s\n",
    "mesa_sleep_0014_s\n",
    "mesa_sleep_0006_s\n",
    "mesa_sleep_0002_s\n",
    "mesa_sleep_0001_s\n",
    "\n",
    "Imported 6 records\n",
    "```"
   ]
  },
  {
   "cell_type": "markdown",
   "metadata": {
    "colab_type": "text",
    "id": "E67MHyDS-rWx"
   },
   "source": [
    "## Data pre-processing"
   ]
  },
  {
   "cell_type": "markdown",
   "metadata": {
    "colab_type": "text",
    "id": "ZlRGvaHm-rW3"
   },
   "source": [
    "### Plot histogram of EEG channels\n",
    "Plot histogram of individual EEG channels in dataset.\n",
    "\n",
    "**Suggestions**\n",
    "* Use function `np.linspace()` from Numpy to define array `x_bins` with 100 values from -0.2 to 0.2.\n",
    "* Use function `plt.hist()` from Matplotlib to plot histogram of array `x`, using keyword `bins` to set bins location to `x_bins`"
   ]
  },
  {
   "cell_type": "code",
   "execution_count": 9,
   "metadata": {
    "colab": {
     "base_uri": "https://localhost:8080/",
     "height": 221
    },
    "colab_type": "code",
    "id": "NMNJAEcn-rW5",
    "outputId": "a0a923d0-68b0-4994-b7b6-8250632d5057"
   },
   "outputs": [
    {
     "ename": "TypeError",
     "evalue": "'dict_keys' object does not support indexing",
     "output_type": "error",
     "traceback": [
      "\u001b[0;31m---------------------------------------------------------------------------\u001b[0m",
      "\u001b[0;31mTypeError\u001b[0m                                 Traceback (most recent call last)",
      "\u001b[0;32m<ipython-input-9-c3132a3bf8a8>\u001b[0m in \u001b[0;36m<module>\u001b[0;34m()\u001b[0m\n\u001b[1;32m      3\u001b[0m \u001b[0mimportlib\u001b[0m\u001b[0;34m.\u001b[0m\u001b[0mreload\u001b[0m\u001b[0;34m(\u001b[0m\u001b[0msleep_utils\u001b[0m\u001b[0;34m)\u001b[0m\u001b[0;34m\u001b[0m\u001b[0m\n\u001b[1;32m      4\u001b[0m \u001b[0;34m\u001b[0m\u001b[0m\n\u001b[0;32m----> 5\u001b[0;31m \u001b[0msleep_utils\u001b[0m\u001b[0;34m.\u001b[0m\u001b[0mplot_stats\u001b[0m\u001b[0;34m(\u001b[0m\u001b[0mdataset\u001b[0m\u001b[0;34m,\u001b[0m \u001b[0mx_min\u001b[0m\u001b[0;34m=\u001b[0m\u001b[0;34m-\u001b[0m\u001b[0;36m0.2\u001b[0m\u001b[0;34m,\u001b[0m \u001b[0mx_max\u001b[0m\u001b[0;34m=\u001b[0m\u001b[0;36m0.2\u001b[0m\u001b[0;34m)\u001b[0m\u001b[0;34m\u001b[0m\u001b[0m\n\u001b[0m",
      "\u001b[0;32m~/dev/intro-sleep-scoring/sleep_utils.py\u001b[0m in \u001b[0;36mplot_stats\u001b[0;34m(dataset, exclude_record, x_min, x_max, x_n)\u001b[0m\n\u001b[1;32m     78\u001b[0m                             if key not in exclude_record]\n\u001b[1;32m     79\u001b[0m \u001b[0;34m\u001b[0m\u001b[0m\n\u001b[0;32m---> 80\u001b[0;31m     \u001b[0mchannels_ref\u001b[0m \u001b[0;34m=\u001b[0m \u001b[0mdataset\u001b[0m\u001b[0;34m[\u001b[0m\u001b[0mdataset_keys\u001b[0m\u001b[0;34m[\u001b[0m\u001b[0;36m0\u001b[0m\u001b[0;34m]\u001b[0m\u001b[0;34m]\u001b[0m\u001b[0;34m[\u001b[0m\u001b[0;34m'channels_ref'\u001b[0m\u001b[0;34m]\u001b[0m\u001b[0;34m\u001b[0m\u001b[0m\n\u001b[0m\u001b[1;32m     81\u001b[0m \u001b[0;34m\u001b[0m\u001b[0m\n\u001b[1;32m     82\u001b[0m     \u001b[0mn_channels\u001b[0m \u001b[0;34m=\u001b[0m \u001b[0mlen\u001b[0m\u001b[0;34m(\u001b[0m\u001b[0mchannels_ref\u001b[0m\u001b[0;34m)\u001b[0m\u001b[0;34m\u001b[0m\u001b[0m\n",
      "\u001b[0;31mTypeError\u001b[0m: 'dict_keys' object does not support indexing"
     ]
    }
   ],
   "source": [
    "import sleep_utils\n",
    "import importlib\n",
    "importlib.reload(sleep_utils)\n",
    "\n",
    "sleep_utils.plot_stats(dataset, x_min=-0.2, x_max=0.2)"
   ]
  },
  {
   "cell_type": "markdown",
   "metadata": {
    "colab_type": "text",
    "id": "7W_yx0Z9-rW9"
   },
   "source": [
    "**EXPECTED OUTPUT**\n",
    "\n",
    "<img src=\"https://github.com/mpbrigham/colaboratory-figures/raw/master/sleep-scoring/eeg-histogram-pre.pn\" style=\"height: 350px;float: left;\">"
   ]
  },
  {
   "cell_type": "markdown",
   "metadata": {
    "colab_type": "text",
    "id": "oWF5gNGO-rW9"
   },
   "source": [
    "### Center and scale EEG data\n",
    "Write function `pre_process()` to remove channel mean and scale channels to one standard deviation or 50th absolute percentile.\n",
    "\n",
    "Apply function to channel data and plot histograms."
   ]
  },
  {
   "cell_type": "code",
   "execution_count": null,
   "metadata": {
    "colab": {},
    "colab_type": "code",
    "id": "Tcp88n9r-rW_"
   },
   "outputs": [],
   "source": [
    "def pre_process(x, scale='std'):\n",
    "  \"\"\"Remove channel mean from array x and scale to one standard deviation or \n",
    "  absolute 50th percentile.\n",
    "  x: array with shape (batch, channel, data)\n",
    "  scale: 'std' | 'pct'\n",
    "\n",
    "  returns x_out:  zero channel mean and scaled array x\n",
    "  \"\"\"\n",
    "\n",
    "  x_out = x\n",
    "  \n",
    "  for idx in range(x.shape[1]):\n",
    "    \n",
    "      x_out[:,idx] = x[:,idx] - np.mean(x[:,idx], keepdims=True)\n",
    "\n",
    "      if scale=='std':\n",
    "          alpha = np.std(x_out[:,idx], keepdims=True)\n",
    "\n",
    "      elif scale=='pct':\n",
    "          alpha = np.percentile(np.abs(x_out[:,idx]), 50, keepdims=True)*10\n",
    "          \n",
    "      x_out[:,idx] = x_out[:,idx]/alpha\n",
    "      \n",
    "  return x_out"
   ]
  },
  {
   "cell_type": "code",
   "execution_count": null,
   "metadata": {
    "colab": {
     "base_uri": "https://localhost:8080/",
     "height": 221
    },
    "colab_type": "code",
    "id": "8mawMDza-rXB",
    "outputId": "0306b3a4-4f20-46e2-fa6c-dcded020b5d0"
   },
   "outputs": [],
   "source": [
    "dataset_std = {item: dataset[item] for item in dataset}\n",
    "\n",
    "for key_idx, key in enumerate(dataset):\n",
    "  \n",
    "    dataset_std[key]['samples'] = pre_process(dataset_std[key]['samples'],\n",
    "                                          scale='std')\n",
    "  \n",
    "sleep_utils.plot_stats(dataset_std, channels)"
   ]
  },
  {
   "cell_type": "code",
   "execution_count": null,
   "metadata": {
    "colab": {
     "base_uri": "https://localhost:8080/",
     "height": 221
    },
    "colab_type": "code",
    "id": "4TjlMSxOkrDo",
    "outputId": "5023747a-dd8b-4db8-80bc-d2fd12092788"
   },
   "outputs": [],
   "source": [
    "dataset_pct = {item: dataset[item] for item in dataset}\n",
    "\n",
    "for key_idx, key in enumerate(dataset):\n",
    "  \n",
    "    dataset_pct[key]['samples'] = pre_process(dataset_pct[key]['samples'],\n",
    "                                          scale='pct')\n",
    "  \n",
    "sleep_utils.plot_stats(dataset_pct, channels)"
   ]
  },
  {
   "cell_type": "markdown",
   "metadata": {
    "colab_type": "text",
    "id": "eMUEu3uG-rXL"
   },
   "source": [
    "## Prepare data for training"
   ]
  },
  {
   "cell_type": "markdown",
   "metadata": {
    "colab_type": "text",
    "id": "TDdkiv-2-rXL"
   },
   "source": [
    "### Write data import function\n",
    "Write function `load_data()` to import EEG channels and hypnogram from HDF5 database."
   ]
  },
  {
   "cell_type": "code",
   "execution_count": null,
   "metadata": {
    "colab": {},
    "colab_type": "code",
    "id": "_Nv2ITDW-rXM"
   },
   "outputs": [],
   "source": [
    "def load_data(path):\n",
    "  \"\"\"Import EEG channels and hypnogram from HDF5 database.\n",
    "  path: filesysWrite function `load_data()` to import EEG channels and hypnogram from HDF5 database.Write function `load_data()` to import EEG channels and hypnogram from HDF5 database.tem path of HDF5 database\n",
    "\n",
    "  returns x: array containing EEG channels\n",
    "          y: array containing hypnogram\n",
    "  \"\"\"\n",
    "\n",
    "  # insert your code here\n",
    "  x = None\n",
    "  y = None\n",
    "\n",
    "  return (x, y)"
   ]
  },
  {
   "cell_type": "code",
   "execution_count": null,
   "metadata": {
    "colab": {},
    "colab_type": "code",
    "id": "ENOcR3QF-rXM"
   },
   "outputs": [],
   "source": [
    "def load_data(path):\n",
    "  \"\"\"Import EEG channels and hypnogram from HDF5 database.\n",
    "  path: filesystem path of HDF5 database\n",
    "\n",
    "  returns x: array containing EEG channels\n",
    "          y: array containing hypnogram\n",
    "  \"\"\"\n",
    "\n",
    "  with h5py.File(path, 'r') as f:\n",
    "    x = np.stack((f['EEG1'][::], f['EEG2'][::], f['EEG3'][::]), axis=1)\n",
    "    y = np.array([f['stages'][::]]).T\n",
    "\n",
    "  return (x, y)"
   ]
  },
  {
   "cell_type": "code",
   "execution_count": null,
   "metadata": {
    "colab": {
     "base_uri": "https://localhost:8080/",
     "height": 267
    },
    "colab_type": "code",
    "id": "oFexzCtY-rXO",
    "outputId": "5ba479e1-a140-4a74-c4bc-6e8890d28d2f"
   },
   "outputs": [],
   "source": [
    "path = 'colaboratory-data/mesa-small/mesa-sleep-0002_s.h5'\n",
    "\n",
    "x, y = load_data(path)\n",
    "\n",
    "x = pre_process(x)\n",
    "\n",
    "if x is not None:\n",
    "  print(x[:2])\n",
    "  print(y[:2])"
   ]
  },
  {
   "cell_type": "markdown",
   "metadata": {
    "colab_type": "text",
    "id": "XiEUIl-u-rXQ"
   },
   "source": [
    "**EXPECTED OUTPUT**\n",
    "```\n",
    "[[[ 0.04396349  0.07795955  0.07226041 ...  0.04176991  0.03708698  0.04716769]\n",
    "  [-0.07195704 -0.11975361 -0.10864799 ... -0.09606183 -0.09113557  -0.092215  ]\n",
    "  [ 0.02422285  0.05473021  0.05198389 ...  0.01406217  0.0240755   0.0294412 ]]\n",
    "\n",
    " [[ 0.03657643  0.04430808  0.03648227 ...  0.03918483  0.04145856  0.04325664]\n",
    "  [-0.05006481 -0.0881365  -0.07769687 ... -0.07160157 -0.05522351  -0.06842058]\n",
    "  [ 0.03790487  0.05567357  0.05256429 ...  0.0541604   0.04131374  0.06555403]]]\n",
    "[[0]\n",
    " [0]]\n",
    "```"
   ]
  },
  {
   "cell_type": "markdown",
   "metadata": {
    "colab_type": "text",
    "id": "ZKyNw8E--rXQ"
   },
   "source": [
    "### Import test set\n",
    "Import test set from HDF5 database `mesa-sleep-0021_s` into arrays `x_test` and `y_test`.\n",
    "\n",
    "Print shapes of the new arrays, and basic EEG stats from array `x_test`."
   ]
  },
  {
   "cell_type": "code",
   "execution_count": null,
   "metadata": {
    "colab": {},
    "colab_type": "code",
    "id": "UUGZOdi5-rXR"
   },
   "outputs": [],
   "source": [
    "path = 'colaboratory-data/mesa-small/mesa-sleep-0021_s.h5'\n",
    "\n",
    "x_test, y_test = load_data(path)\n",
    "\n",
    "x_test = pre_process(x_test)\n",
    "\n",
    "# insert your code here"
   ]
  },
  {
   "cell_type": "code",
   "execution_count": null,
   "metadata": {
    "colab": {
     "base_uri": "https://localhost:8080/",
     "height": 183
    },
    "colab_type": "code",
    "id": "ikxsJdV0-rXR",
    "outputId": "cdf34f52-9518-458e-edd3-6d38690c3d74"
   },
   "outputs": [],
   "source": [
    "path = 'colaboratory-data/mesa-small/mesa-sleep-0021_s.h5'\n",
    "\n",
    "x_test, y_test = load_data(path)\n",
    "\n",
    "x_test = pre_process(x_test)\n",
    "\n",
    "print('var\\t\\t shape\\n')\n",
    "for item, item_name in ([[x_test, 'x_test'], [y_test, 'y_test']]):\n",
    "  print(item_name, '\\t', item.shape)\n",
    "    \n",
    "print()\n",
    "print_stats(x_test)"
   ]
  },
  {
   "cell_type": "markdown",
   "metadata": {
    "colab_type": "text",
    "id": "aCSE0chd-rXT"
   },
   "source": [
    "**EXPECTED OUTPUT**\n",
    "```\n",
    "var\t\t shape\n",
    "\n",
    "x_test \t (1079, 3, 1920)\n",
    "y_test \t (1079, 1)\n",
    "\n",
    "EEG\t min\t\t max\t\t mean\t\t std\n",
    "\n",
    "0 \t -1.9979 \t 0.6084 \t 0.0000 \t 0.0222\n",
    "1 \t -0.4698 \t 2.0072 \t 0.0000 \t 0.0380\n",
    "2 \t -5.0036 \t 1.0731 \t 0.0000 \t 0.0511\n",
    " ```"
   ]
  },
  {
   "cell_type": "markdown",
   "metadata": {
    "colab_type": "text",
    "id": "ctwovhWS-rXU"
   },
   "source": [
    "### Split dataset into train and validation sets\n",
    "Split arrays `x` and `y` into train and validation sets `x_train`, `x_val`, `y_train` and `y_val`. The validation set contains 300 epochs from each HDF5 database.\n",
    "\n",
    "Print the shapes of the new arrays.\n",
    "\n",
    "**Note:** the function `np.random.seed(0)` from Numpy is used to replicate the expected output.\n",
    "\n",
    "**Suggestions**\n",
    "* Create boolean array `bool_idx` with 1439 elements initialized with `False` values\n",
    "* Use function `np.random.choice()` to randomly select (without replacement) 300 elements of array `bool_idx` and set them to `True`\n",
    "* Split `x` into `x_train` and `x_val` using indexes from array `bool_idx`\n",
    "* Use function `np.random.seed(0)` from Numpy to replicate the expected output"
   ]
  },
  {
   "cell_type": "code",
   "execution_count": null,
   "metadata": {
    "colab": {},
    "colab_type": "code",
    "id": "hySd88UE-rXV"
   },
   "outputs": [],
   "source": [
    "np.random.seed(0)\n",
    "\n",
    "x_val = None\n",
    "y_val = None\n",
    "x_train = None\n",
    "y_train = None\n",
    "\n",
    "# insert your code here"
   ]
  },
  {
   "cell_type": "code",
   "execution_count": null,
   "metadata": {
    "colab": {
     "base_uri": "https://localhost:8080/",
     "height": 150
    },
    "colab_type": "code",
    "id": "nnMJg_7z-rXV",
    "outputId": "6a957107-c382-4f69-cfa5-2ee23ef20350"
   },
   "outputs": [],
   "source": [
    "np.random.seed(0)\n",
    "\n",
    "bool_idx = np.array([False]*y.shape[0])\n",
    "selected = np.random.choice(len(bool_idx), size=300, replace=False)\n",
    "bool_idx[selected] = True\n",
    "\n",
    "x_val = x[bool_idx]\n",
    "y_val = y[bool_idx]\n",
    "x_train = x[~bool_idx]\n",
    "y_train = y[~bool_idx]\n",
    "\n",
    "print('var\\t\\t shape\\n')\n",
    "for item, item_name in [[x, 'x      '], [y, 'y      '],\n",
    "                        [x_train, 'x_train'], [y_train, 'y_train'],\n",
    "                        [x_val, 'x_val  '], [y_val, 'y_val  ']]:\n",
    "  print(item_name, '\\t', item.shape)"
   ]
  },
  {
   "cell_type": "markdown",
   "metadata": {
    "colab_type": "text",
    "id": "vYizTuYXfImx"
   },
   "source": [
    "**EXPECTED OUTPUT**\n",
    "```\n",
    "var\t\t shape\n",
    "\n",
    "x       \t (1319, 3, 1920)\n",
    "y       \t (1319, 1)\n",
    "x_train \t (1019, 3, 1920)\n",
    "y_train \t (1019, 1)\n",
    "x_val   \t (300, 3, 1920)\n",
    "y_val   \t (300, 1)\n",
    "```"
   ]
  },
  {
   "cell_type": "markdown",
   "metadata": {
    "colab_type": "text",
    "id": "fO7SFfZabFYK"
   },
   "source": [
    "### Check train and validation sets are mutually exclusive\n",
    "Execute the following code to validate that `x_val` contains no elements from `x_train`."
   ]
  },
  {
   "cell_type": "code",
   "execution_count": null,
   "metadata": {
    "colab": {
     "base_uri": "https://localhost:8080/",
     "height": 33
    },
    "colab_type": "code",
    "id": "ZktMZyrRf-w-",
    "outputId": "b4893788-8f9b-48cf-856c-9830faf23fce"
   },
   "outputs": [],
   "source": [
    "for item_train in x_train:\n",
    "  for item_val in x_val:\n",
    "    assert not np.allclose(item_train, item_val), 'Failed.'\n",
    "      \n",
    "print('Passed.')"
   ]
  },
  {
   "cell_type": "markdown",
   "metadata": {
    "colab_type": "text",
    "id": "C51mnPI5efs3"
   },
   "source": [
    "**EXPECTED OUTPUT**\n",
    "```\n",
    "Passed.\n",
    "```"
   ]
  },
  {
   "cell_type": "markdown",
   "metadata": {
    "colab_type": "text",
    "id": "jwOlQkNf-rXY"
   },
   "source": [
    "### Generate train and validation sets\n",
    "Create train and validation sets in arrays `x_train`, `y_train`, `x_val` and `y_val` from HDF5 databases `mesa-sleep-0001_s`, `mesa-sleep-0002_s`, `mesa-sleep-0006_s`, `mesa-sleep-0014_s` and `mesa-sleep-0016_s`.\n",
    "\n",
    "Print the shapes of train and validation datasets. Print basic statistical metrics of array `x_train`."
   ]
  },
  {
   "cell_type": "code",
   "execution_count": null,
   "metadata": {
    "colab": {},
    "colab_type": "code",
    "id": "hWv9uU6H-rXZ"
   },
   "outputs": [],
   "source": [
    "np.random.seed(0)\n",
    "\n",
    "paths = ['colaboratory-data/mesa-small/mesa-sleep-0001_s.h5', \n",
    "         'colaboratory-data/mesa-small/mesa-sleep-0002_s.h5',\n",
    "         'colaboratory-data/mesa-small/mesa-sleep-0006_s.h5', \n",
    "         'colaboratory-data/mesa-small/mesa-sleep-0014_s.h5',\n",
    "         'colaboratory-data/mesa-small/mesa-sleep-0016_s.h5']\n",
    "\n",
    "# insert your code here"
   ]
  },
  {
   "cell_type": "code",
   "execution_count": null,
   "metadata": {
    "colab": {
     "base_uri": "https://localhost:8080/",
     "height": 217
    },
    "colab_type": "code",
    "id": "zWfeRvFy-rXd",
    "outputId": "a28ef28d-ef41-4dd0-e4b9-be85b5d98145"
   },
   "outputs": [],
   "source": [
    "np.random.seed(0)\n",
    "\n",
    "paths = ['colaboratory-data/mesa-small/mesa-sleep-0001_s.h5', \n",
    "         'colaboratory-data/mesa-small/mesa-sleep-0002_s.h5',\n",
    "         'colaboratory-data/mesa-small/mesa-sleep-0006_s.h5', \n",
    "         'colaboratory-data/mesa-small/mesa-sleep-0014_s.h5',\n",
    "         'colaboratory-data/mesa-small/mesa-sleep-0016_s.h5']\n",
    "\n",
    "x_train, x_val = ([],[])\n",
    "y_train, y_val = ([],[])\n",
    "\n",
    "for path in paths:        \n",
    "             \n",
    "  x, y = load_data(path)\n",
    "\n",
    "  x = pre_process(x)\n",
    "\n",
    "  idx = np.array([False]*y.shape[0])\n",
    "  selected = np.random.choice(y.shape[0], size=300, replace=False)\n",
    "  idx[selected] = True\n",
    "\n",
    "  x_val += [x[idx]]\n",
    "  y_val += [y[idx]]\n",
    "  x_train += [x[~idx]]\n",
    "  y_train += [y[~idx]]\n",
    "        \n",
    "x_val = np.concatenate(x_val, axis=0)\n",
    "x_train = np.concatenate(x_train, axis=0)\n",
    "y_val = np.concatenate(y_val, axis=0)\n",
    "y_train = np.concatenate(y_train, axis=0)\n",
    "\n",
    "print('var \\t\\tshape\\n')\n",
    "for item, item_name in ([x_train, 'x_train'], [y_train, 'y_train'],\n",
    "                        [x_val, 'x_val  '], [y_val,'y_val  ']):\n",
    "  print(item_name, '\\t', item.shape)\n",
    "\n",
    "print()\n",
    "print_stats(x_train)"
   ]
  },
  {
   "cell_type": "markdown",
   "metadata": {
    "colab_type": "text",
    "id": "bR9PjA60-rXh"
   },
   "source": [
    "**EXPECTED OUTPUT**\n",
    "```\n",
    "var \t\tshape\n",
    "\n",
    "x_train \t (5215, 1920, 3)\n",
    "y_train \t (5215, 1)\n",
    "x_val   \t (1500, 1920, 3)\n",
    "y_val   \t (1500, 1)\n",
    "\n",
    "EEG\t min\t\t max\t\t mean\t\t std\n",
    "\n",
    "0 \t -2.7610 \t 2.7743 \t 0.0002 \t 0.1589\n",
    "1 \t -2.7251 \t 2.7513 \t 0.0001 \t 0.4217\n",
    "2 \t -6.7197 \t 6.6099 \t 0.0006 \t 0.4857\n",
    "```"
   ]
  },
  {
   "cell_type": "markdown",
   "metadata": {
    "colab_type": "text",
    "id": "6_FygUB9-rXl"
   },
   "source": [
    "## Model setup"
   ]
  },
  {
   "cell_type": "markdown",
   "metadata": {
    "colab_type": "text",
    "id": "GqNSX_1T-rXl"
   },
   "source": [
    "### Write input/output conversion functions\n",
    "Write function `to_input()` to convert EEG data into 2-dimensional array by concatenating EEG channels on dimension 1.\n",
    "\n",
    "i.e array `x_train` with shape `(5215, 3, 1920)` is mapped to array with shape `(5215, 5760)`.\n",
    "\n",
    "Write function `to_output()` to sleep scores into binarized `one-hot-encoding`, using function `keras.utils.to_categorical()` from Keras library. This transformation assigns score `0` to `[1 0 0 0 0]`, score `1` to  `[0 1 0 0 0]`, etc.\n",
    "\n",
    "i.e array `y_train` with shape `(5215, 1)` is mapped to array with shape `(5215, 5)`."
   ]
  },
  {
   "cell_type": "code",
   "execution_count": null,
   "metadata": {
    "colab": {},
    "colab_type": "code",
    "id": "3yDtwchi-rXm"
   },
   "outputs": [],
   "source": [
    "from keras import backend as K\n",
    "from keras.layers import Input, Dense, Layer\n",
    "from keras.models import Sequential\n",
    "\n",
    "def to_input(x):\n",
    "  \"\"\"Convert data array to shape (batch, data).\n",
    "  x: array with shape (channel, batch, data)\n",
    "\n",
    "  returns x_out: array x with shape (batch, data)\n",
    "  \"\"\"\n",
    "\n",
    "  # insert your code here\n",
    "  x_out = None\n",
    "  \n",
    "  return x_out\n",
    "\n",
    "def to_output(y):\n",
    "  \"\"\"Convert label array to one-hot-encoding with shape (batch, data).\n",
    "  y: label array with shape (1, batch)\n",
    "\n",
    "  returns: y_out (array with shape (batch, label))\n",
    "  \"\"\"\n",
    "\n",
    "  # insert your code here\n",
    "  y_out = None\n",
    "  \n",
    "  return y_out"
   ]
  },
  {
   "cell_type": "code",
   "execution_count": null,
   "metadata": {
    "colab": {},
    "colab_type": "code",
    "id": "iRO_2Pg2-rXp"
   },
   "outputs": [],
   "source": [
    "from keras import backend as K\n",
    "from keras.layers import Input, Dense, Layer\n",
    "from keras.models import Sequential\n",
    "\n",
    "def to_input(x):\n",
    "  \"\"\"Convert data array to shape (batch, data).\n",
    "  x: array with shape (batch, data, channel)\n",
    "\n",
    "  returns x_out: array x with shape (batch, data)\n",
    "  \"\"\"\n",
    "  x_out = x.reshape(x.shape[0], -1)\n",
    "\n",
    "  return x_out\n",
    "\n",
    "def to_output(y):\n",
    "  \"\"\"Convert label array to one-hot-encoding with shape (batch, data).\n",
    "  y: label array with shape (batch, data)\n",
    "\n",
    "  returns: x_out (array with shape (batch, label))\n",
    "  \"\"\"\n",
    "\n",
    "  y_out = keras.utils.to_categorical(y, 5)\n",
    "\n",
    "  return y_out"
   ]
  },
  {
   "cell_type": "code",
   "execution_count": null,
   "metadata": {
    "colab": {
     "base_uri": "https://localhost:8080/",
     "height": 217
    },
    "colab_type": "code",
    "id": "ogF9qq3N-rXq",
    "outputId": "00c2deef-daeb-48fe-c366-2df939add2be"
   },
   "outputs": [],
   "source": [
    "if to_input(x_train) is not None:\n",
    "    \n",
    "  print('var\\t\\t\\t shape\\n')\n",
    "  for item, item_name in ([[to_input(x_train), 'to_input(x_train)'],\n",
    "                           [to_output(y_train), 'to_output(y_train)']]):\n",
    "    print(item_name, '\\t', item.shape)\n",
    "\n",
    "  print('\\n')\n",
    "  print(to_input(x_train)[:2])\n",
    "  print(to_output(y_train)[:2])"
   ]
  },
  {
   "cell_type": "markdown",
   "metadata": {
    "colab_type": "text",
    "id": "M8xP_lRJ-rXt"
   },
   "source": [
    "**EXPECTED OUTPUT**\n",
    "```\n",
    "var\t\t\t shape\n",
    "\n",
    "to_input(x_train) \t (5215, 5760)\n",
    "to_output(y_train) \t (5215, 5)\n",
    "\n",
    "\n",
    "[[ 0.00099635  0.0048069   0.00776085 ...  0.00423072 -0.00867984\n",
    "   0.02381653]\n",
    " [ 0.00212982  0.00123634 -0.00316261 ...  0.01105075  0.03953509\n",
    "   0.04564268]]\n",
    "[[1. 0. 0. 0. 0.]\n",
    " [1. 0. 0. 0. 0.]]\n",
    " ```"
   ]
  },
  {
   "cell_type": "markdown",
   "metadata": {
    "colab_type": "text",
    "id": "NCsNjhUL-rXu"
   },
   "source": [
    "### Convert datasets to network input/output format\n",
    "Convert datasets into format compatible with network using functions `to_input()` and `to_output()`.\n",
    "\n",
    "Print shapes of the new arrays."
   ]
  },
  {
   "cell_type": "code",
   "execution_count": null,
   "metadata": {
    "colab": {
     "base_uri": "https://localhost:8080/",
     "height": 50
    },
    "colab_type": "code",
    "id": "6CqIvNm2-rXv",
    "outputId": "f94d1976-1893-4dc8-ee26-850cee33d4d6"
   },
   "outputs": [],
   "source": [
    "input_train = to_input(x_train)\n",
    "input_val = to_input(x_val)\n",
    "input_test = to_input(x_test)\n",
    "\n",
    "output_train = to_output(y_train)\n",
    "output_val = to_output(y_val)\n",
    "output_test = to_output(y_test)\n",
    "\n",
    "if input_train is not None:\n",
    "  input_shape = input_train.shape[1]\n",
    "  output_shape = output_train.shape[1]\n",
    "\n",
    "print('var\\t\\t shape\\n')\n",
    "\n",
    "# insert your code here"
   ]
  },
  {
   "cell_type": "code",
   "execution_count": null,
   "metadata": {
    "colab": {
     "base_uri": "https://localhost:8080/",
     "height": 150
    },
    "colab_type": "code",
    "id": "gY3Kwrxf-rXx",
    "outputId": "ed742cf6-80c2-4567-dd9f-6c724a7f8404"
   },
   "outputs": [],
   "source": [
    "input_train = to_input(x_train)\n",
    "input_val = to_input(x_val)\n",
    "input_test = to_input(x_test)\n",
    "\n",
    "output_train = to_output(y_train)\n",
    "output_val = to_output(y_val)\n",
    "output_test = to_output(y_test)\n",
    "\n",
    "if input_train is not None:\n",
    "    input_shape = input_train.shape[1]\n",
    "    output_shape = output_train.shape[1]\n",
    "\n",
    "print('var\\t\\t shape\\n')\n",
    "for item, item_name in ([[input_train, 'input_train'], \n",
    "                         [input_val, 'input_val'],\n",
    "                         [input_test, 'input_test'],\n",
    "                         [output_train, 'output_train'], \n",
    "                         [output_val, 'output_val'],\n",
    "                         [output_test, 'output_test']]):\n",
    "    print(item_name, '\\t', item.shape)"
   ]
  },
  {
   "cell_type": "markdown",
   "metadata": {
    "colab_type": "text",
    "id": "oYOCZR7M-rX0"
   },
   "source": [
    "**EXPECTED OUTPUT**\n",
    "```\n",
    "var\t\t shape\n",
    "\n",
    "input_train \t (5215, 5760)\n",
    "input_val   \t (1500, 5760)\n",
    "input_test  \t (1079, 5760)\n",
    "output_train\t (5215, 5)\n",
    "output_val \t  (1500, 5)\n",
    "output_test \t (1079, 5)\n",
    "```"
   ]
  },
  {
   "cell_type": "markdown",
   "metadata": {
    "colab_type": "text",
    "id": "BSVhus1X-rX0"
   },
   "source": [
    "### CNN 1D model\n",
    "Implement simple CNN network with 1D convolutions using library Keras (https://keras.io/).\n",
    "\n",
    "Write function `model_cnn1d()` that returns the compiled model.\n",
    "\n",
    "Use adadelta optimizer, binary crossentropy loss and categorical accuracy metric."
   ]
  },
  {
   "cell_type": "code",
   "execution_count": null,
   "metadata": {
    "colab": {},
    "colab_type": "code",
    "id": "SItgi0iU-rX1"
   },
   "outputs": [],
   "source": [
    "def model_cnn1d():\n",
    "  \"\"\"Define CNN network with 1D convolutions\n",
    "\n",
    "  returns m: Keras model with 1D convolutions\n",
    "  \"\"\"\n",
    "\n",
    "  # insert your code here\n",
    "  m= None \n",
    "\n",
    "  return m"
   ]
  },
  {
   "cell_type": "code",
   "execution_count": null,
   "metadata": {
    "colab": {},
    "colab_type": "code",
    "id": "hugP8DZV-rX2"
   },
   "outputs": [],
   "source": [
    "def model_cnn1d():\n",
    "  \"\"\"Define CNN network with 1D convolutions\n",
    "\n",
    "  returns m: Keras model with 1D convolutions\n",
    "  \"\"\"\n",
    "\n",
    "  m = Sequential()\n",
    "  m.add(Layer(input_shape=(input_shape,), name='input'))\n",
    "  m.add(Dense(output_shape, activation='softmax', name='output'))\n",
    "\n",
    "  m.compile(optimizer='adadelta', loss='binary_crossentropy', metrics=['categorical_accuracy'])\n",
    "\n",
    "  return m"
   ]
  },
  {
   "cell_type": "code",
   "execution_count": null,
   "metadata": {
    "colab": {
     "base_uri": "https://localhost:8080/",
     "height": 200
    },
    "colab_type": "code",
    "id": "BmFnPFxG-rX5",
    "outputId": "1ca4c47e-8426-4e75-f18d-df60abb0cb10"
   },
   "outputs": [],
   "source": [
    "model = model_softmax()\n",
    "\n",
    "if model is not None:\n",
    "  model.summary()"
   ]
  },
  {
   "cell_type": "markdown",
   "metadata": {
    "colab_type": "text",
    "id": "NqGdMr8b-rX9"
   },
   "source": [
    "**EXPECTED OUTPUT**\n",
    "```\n",
    "_________________________________________________________________\n",
    "Layer (type)                 Output Shape              Param #   \n",
    "=================================================================\n",
    "input (Layer)                (None, 5760)              0         \n",
    "_________________________________________________________________\n",
    "output (Dense)               (None, 5)                 28805     \n",
    "=================================================================\n",
    "Total params: 28,805\n",
    "Trainable params: 28,805\n",
    "Non-trainable params: 0\n",
    "_________________________________________________________________\n",
    "```"
   ]
  },
  {
   "cell_type": "markdown",
   "metadata": {
    "colab_type": "text",
    "id": "k0Kq-hEI-rX9"
   },
   "source": [
    "### Train softmax model\n",
    "Train softmax network during 5 training epochs, batch size of 32 with sample shuffling.\n",
    "\n",
    "**Suggestions**\n",
    "* Use method `fit()` with keywords `epochs`, `batch_size` and `shuffle` to train model\n",
    "* Use method `evaluate()` to evaluate performance metrics in validation and test sets"
   ]
  },
  {
   "cell_type": "code",
   "execution_count": null,
   "metadata": {
    "colab": {},
    "colab_type": "code",
    "id": "DXfulPGK-rX-"
   },
   "outputs": [],
   "source": [
    "np.random.seed(0)\n",
    "\n",
    "n_epochs = 5\n",
    "\n",
    "model = model_softmax()\n",
    "\n",
    "# insert your code here"
   ]
  },
  {
   "cell_type": "code",
   "execution_count": null,
   "metadata": {
    "colab": {
     "base_uri": "https://localhost:8080/",
     "height": 250
    },
    "colab_type": "code",
    "id": "Pnd6F3zm-rYB",
    "outputId": "ae72b83d-41f3-4397-b3f8-5616a44a24ee"
   },
   "outputs": [],
   "source": [
    "np.random.seed(0)\n",
    "\n",
    "n_epochs = 5\n",
    "\n",
    "model = model_softmax()\n",
    "\n",
    "model.fit(input_train, output_train,\n",
    "          epochs=n_epochs,\n",
    "          batch_size=32,\n",
    "          shuffle=True)\n",
    "\n",
    "val = model.evaluate(input_val, output_val, verbose=False)\n",
    "test = model.evaluate(input_test, output_test, verbose=False)\n",
    "\n",
    "print('\\nDataset\\t loss\\t\\t accuracy')\n",
    "print('val\\t', '{0:.4f}'.format(val[0]), '\\t', '{0:.4f}'.format(val[1]))\n",
    "print('test\\t', '{0:.4f}'.format(test[0]), '\\t', '{0:.4f}'.format(test[1]))"
   ]
  },
  {
   "cell_type": "markdown",
   "metadata": {
    "colab_type": "text",
    "id": "8IoEYUkF-rYD"
   },
   "source": [
    "**EXPECTED OUTPUT** (may vary slightly)\n",
    "```\n",
    "Epoch 1/5\n",
    "5215/5215 [==============================] - 2s 295us/step - loss: 0.5193 - categorical_accuracy: 0.3342\n",
    "...\n",
    "Epoch 5/5\n",
    "5215/5215 [==============================] - 1s 162us/step - loss: 0.4389 - categorical_accuracy: 0.4071\n",
    "\n",
    "Dataset  loss\t    accuracy\n",
    "val \t 0.4664 \t 0.3500\n",
    "test\t 0.5069 \t 0.1158\n",
    "```"
   ]
  },
  {
   "cell_type": "markdown",
   "metadata": {
    "colab_type": "text",
    "id": "3LBp8wJq-rYE"
   },
   "source": [
    "### Performance evaluation with cross validation\n",
    "Estimate model performance on unseen data with function `cross_validation()` that implements *leave-one-out cross validation*. In this  performance evaluation scheme the original dataset is split in `K` sets or *folds*. The model is succesfully trained in `K-1` sets and tested on the remaining set. In this case, a set corresponds to a database."
   ]
  },
  {
   "cell_type": "code",
   "execution_count": null,
   "metadata": {
    "colab": {},
    "colab_type": "code",
    "id": "pymqS7wJ-rYE"
   },
   "outputs": [],
   "source": [
    "def cross_validation(paths, model_ref, epochs=5, verbose=True):\n",
    "  \"\"\"Leave-one-out cross validation scheme at database level\n",
    "  paths: list containing paths of HDF5 databases\n",
    "  model_ref: Keras model\n",
    "  epochs: number of training epochs\n",
    "  verbose: print intermediate results\n",
    "\n",
    "  returns models: list with trained Keras models\n",
    "          metrics: list with train, validation and test metrics\n",
    "\n",
    "  \"\"\"\n",
    "\n",
    "  # insert your code here\n",
    "  models = []\n",
    "  metrics = []\n",
    "\n",
    "  return (models, metrics)"
   ]
  },
  {
   "cell_type": "code",
   "execution_count": null,
   "metadata": {
    "colab": {},
    "colab_type": "code",
    "id": "s9BJuDHh-rYF"
   },
   "outputs": [],
   "source": [
    "def cross_validation(paths, model_ref, epochs=5, verbose=True):\n",
    "  \"\"\"Leave-one-out cross validation scheme at database level\n",
    "  paths: list containing paths of HDF5 databases\n",
    "  model_ref: Keras model\n",
    "  epochs: number of training epochs\n",
    "  verbose: print intermediate results\n",
    "   \n",
    "  returns models: list with trained Keras models\n",
    "         metrics: list with train, validation and test metrics\n",
    "            \n",
    "  \"\"\"\n",
    "    \n",
    "  models, train, val, test = ([], [], [], [])\n",
    "\n",
    "  n = len(paths)\n",
    "\n",
    "  if verbose:\n",
    "    print(n, 'fold cross-validation\\n\\nacc val   acc test   fold\\n')\n",
    "\n",
    "  for idx_test in range(len(paths)):\n",
    "\n",
    "    x_test, y_test = load_data(paths[idx_test])\n",
    "    x_test = pre_process(x_test)\n",
    "\n",
    "    x_val, y_val = ([],[])\n",
    "    x_train, y_train = ([],[])\n",
    "\n",
    "    for idx_train in range(len(paths)):\n",
    "\n",
    "      if idx_train!=idx_test:\n",
    "\n",
    "        x, y = load_data(paths[idx_train])\n",
    "        x = pre_process(x)\n",
    "\n",
    "        idx = np.array([False]*y.shape[0])\n",
    "        selected = np.random.choice(y.shape[0], size=300, replace=False)\n",
    "        idx[selected] = True\n",
    "\n",
    "        x_val += [x[idx]]\n",
    "        y_val += [y[idx]]\n",
    "        x_train += [x[~idx]]\n",
    "        y_train += [y[~idx]]\n",
    "\n",
    "    x_val = np.concatenate(x_val, axis=0)\n",
    "    x_train = np.concatenate(x_train, axis=0)\n",
    "    y_val = np.concatenate(y_val, axis=0)\n",
    "    y_train = np.concatenate(y_train, axis=0)\n",
    "\n",
    "    input_val = to_input(x_val)\n",
    "    input_train = to_input(x_train)\n",
    "    input_test = to_input(x_test)\n",
    "\n",
    "    output_val = to_output(y_val)\n",
    "    output_train = to_output(y_train)\n",
    "    output_test = to_output(y_test)\n",
    "\n",
    "    model = model_ref()\n",
    "\n",
    "    model_fit = model.fit(input_train, output_train, epochs=epochs,\n",
    "                          batch_size=32, verbose=False, shuffle=True)\n",
    "    train += [model_fit.history]\n",
    "    val += [model.evaluate(input_val, output_val, verbose=False)]\n",
    "    test += [model.evaluate(input_test, output_test, verbose=False)]\n",
    "\n",
    "    models += [model]\n",
    "\n",
    "    if verbose:\n",
    "      print('{0:.4f}   '.format(val[-1][1]), \n",
    "            '{0:.4f}    '.format(test[-1][1]),\n",
    "            idx_test+1)\n",
    "      \n",
    "  metrics = [train, val, test]\n",
    "  \n",
    "  return (models, metrics)"
   ]
  },
  {
   "cell_type": "markdown",
   "metadata": {
    "colab_type": "text",
    "id": "Ho2TeSCx-rYF"
   },
   "source": [
    "### Train softmax model with cross validation\n",
    "Train softmax model with cross validation, 10 training epochs, batch size of 32 with sample shuffling.\n",
    "\n",
    "Plot loss and accuracy for each fold and their mean."
   ]
  },
  {
   "cell_type": "code",
   "execution_count": null,
   "metadata": {
    "colab": {
     "base_uri": "https://localhost:8080/",
     "height": 183
    },
    "colab_type": "code",
    "id": "Lzc3TUDw-rYF",
    "outputId": "c084188f-a1f5-4437-a9fc-37a811faf3b9"
   },
   "outputs": [],
   "source": [
    "paths = ['colaboratory-data/mesa-small/mesa-sleep-0001_s.h5', \n",
    "         'colaboratory-data/mesa-small/mesa-sleep-0002_s.h5',\n",
    "         'colaboratory-data/mesa-small/mesa-sleep-0006_s.h5', \n",
    "         'colaboratory-data/mesa-small/mesa-sleep-0014_s.h5',\n",
    "         'colaboratory-data/mesa-small/mesa-sleep-0016_s.h5', \n",
    "         'colaboratory-data/mesa-small/mesa-sleep-0021_s.h5']\n",
    "\n",
    "np.random.seed(0)\n",
    "\n",
    "n_epochs = 5\n",
    "    \n",
    "models_softmax, metrics_softmax = cross_validation(paths, model_softmax, \n",
    "                                                   epochs=n_epochs)\n",
    "\n",
    "# insert your code here"
   ]
  },
  {
   "cell_type": "code",
   "execution_count": null,
   "metadata": {
    "colab": {
     "base_uri": "https://localhost:8080/",
     "height": 267
    },
    "colab_type": "code",
    "id": "2U7y1uXB-rYH",
    "outputId": "f7f6749d-0f50-4a76-bcc2-a474d38a91cf"
   },
   "outputs": [],
   "source": [
    "paths = ['colaboratory-data/mesa-small/mesa-sleep-0001_s.h5', \n",
    "         'colaboratory-data/mesa-small/mesa-sleep-0002_s.h5',\n",
    "         'colaboratory-data/mesa-small/mesa-sleep-0006_s.h5', \n",
    "         'colaboratory-data/mesa-small/mesa-sleep-0014_s.h5',\n",
    "         'colaboratory-data/mesa-small/mesa-sleep-0016_s.h5', \n",
    "         'colaboratory-data/mesa-small/mesa-sleep-0021_s.h5']\n",
    "\n",
    "np.random.seed(0)\n",
    "\n",
    "n_epochs = 5\n",
    "\n",
    "models_softmax, metrics_softmax = cross_validation(paths, model_softmax, \n",
    "                                                   epochs=n_epochs)\n",
    "\n",
    "metrics, metrics_name = [metrics_softmax, 'softmax']\n",
    "\n",
    "print('\\nmin \\tmax \\tmean \\tstd \\t(accuracy)\\n')\n",
    "for item, item_name in [[np.array(metrics[1]), 'val'],\n",
    "                        [np.array(metrics[2]), 'test']]:\n",
    "  print('{0:.4f}'.format(np.min(item[:,1])),\n",
    "        '\\t{0:.4f}'.format(np.max(item[:,1])), \n",
    "        '\\t{0:.4f}'.format(np.mean(item[:,1])),\n",
    "        '\\t{0:.4f}\\t'.format(np.std(item[:,1])), item_name)"
   ]
  },
  {
   "cell_type": "markdown",
   "metadata": {
    "colab_type": "text",
    "id": "U_bR2Spr-rYH"
   },
   "source": [
    "**EXPECTED OUTPUT** (may vary slightly)\n",
    "```\n",
    "6 fold cross-validation\n",
    "\n",
    "acc val   acc test   fold\n",
    "\n",
    "0.3753    0.3912     1\n",
    "0.3360    0.3601     2\n",
    "0.3013    0.3049     3\n",
    "0.4067    0.3300     4\n",
    "0.3353    0.2986     5\n",
    "0.3487    0.1158     6\n",
    "\n",
    "min   \t max   \t mean   \tstd \t(accuracy)\n",
    "\n",
    "0.3013 \t0.4067 \t0.3506 \t0.0332\t val\n",
    "0.1158 \t0.3912 \t0.3001 \t0.0883\t test\n",
    "```"
   ]
  },
  {
   "cell_type": "markdown",
   "metadata": {
    "colab_type": "text",
    "id": "XtrBOZwe-rYJ"
   },
   "source": [
    "### ANN model\n",
    "Implement ANN model with single hidden layer with 256 ReLU units and softmax output.\n",
    "\n",
    "Write function `model_ann()` that returns the compiled model.\n",
    "\n",
    "Use adadelta optimizer, binary crossentropy loss and categorical accuracy metric."
   ]
  },
  {
   "cell_type": "code",
   "execution_count": null,
   "metadata": {
    "colab": {},
    "colab_type": "code",
    "id": "i3pJOMM4-rYJ"
   },
   "outputs": [],
   "source": [
    "def model_ann():\n",
    "  \"\"\"Define shallow ANN model\n",
    "\n",
    "  returns m: shallow ANN Keras model\n",
    "  \"\"\"\n",
    "\n",
    "  # insert your code here\n",
    "  m = None\n",
    "\n",
    "  return m"
   ]
  },
  {
   "cell_type": "code",
   "execution_count": null,
   "metadata": {
    "colab": {},
    "colab_type": "code",
    "id": "UbdSaX7Q-rYK"
   },
   "outputs": [],
   "source": [
    "def model_ann():\n",
    "  \"\"\"Define shallow ANN model\n",
    "\n",
    "  returns m: shallow ANN Keras model\n",
    "  \"\"\"\n",
    "\n",
    "  m = None\n",
    "\n",
    "  m = Sequential()\n",
    "  m.add(Layer(input_shape=(input_shape,), name='input'))\n",
    "  m.add(Dense(256, activation='relu', name='h1'))\n",
    "  m.add(Dense(output_shape, activation='softmax', name='output'))\n",
    "\n",
    "  m.compile(optimizer='adadelta', loss='binary_crossentropy', metrics=['categorical_accuracy'])\n",
    "\n",
    "  return m"
   ]
  },
  {
   "cell_type": "code",
   "execution_count": null,
   "metadata": {
    "colab": {
     "base_uri": "https://localhost:8080/",
     "height": 233
    },
    "colab_type": "code",
    "id": "rAE_tGOT-rYL",
    "outputId": "58721faa-ac7f-4521-9193-38ea8611eac4"
   },
   "outputs": [],
   "source": [
    "model = model_ann()\n",
    "\n",
    "if model is not None:\n",
    "  model.summary()"
   ]
  },
  {
   "cell_type": "markdown",
   "metadata": {
    "colab_type": "text",
    "id": "bATY20fn-rYO"
   },
   "source": [
    "**EXPECTED OUTPUT**\n",
    "```\n",
    "_________________________________________________________________\n",
    "Layer (type)                 Output Shape              Param #   \n",
    "=================================================================\n",
    "input (Layer)                (None, 5760)              0         \n",
    "_________________________________________________________________\n",
    "h1 (Dense)                   (None, 256)               1474816   \n",
    "_________________________________________________________________\n",
    "output (Dense)               (None, 5)                 1285      \n",
    "=================================================================\n",
    "Total params: 1,476,101\n",
    "Trainable params: 1,476,101\n",
    "Non-trainable params: 0\n",
    "_________________________________________________________________\n",
    "```"
   ]
  },
  {
   "cell_type": "markdown",
   "metadata": {
    "colab_type": "text",
    "id": "mxJgT9fb-rYP"
   },
   "source": [
    "### Train ANN model\n",
    "Train ANN model during 5 training epochs, batch size of 32 with sample shuffling.\n",
    "\n",
    "**Note:** the actual output may be slightly different from the expected output"
   ]
  },
  {
   "cell_type": "code",
   "execution_count": null,
   "metadata": {
    "colab": {},
    "colab_type": "code",
    "id": "qKm1yCEz-rYP"
   },
   "outputs": [],
   "source": [
    "np.random.seed(0)\n",
    "\n",
    "n_epochs = 5\n",
    "\n",
    "model = model_ann()\n",
    "\n",
    "# insert your code here"
   ]
  },
  {
   "cell_type": "code",
   "execution_count": null,
   "metadata": {
    "colab": {
     "base_uri": "https://localhost:8080/",
     "height": 250
    },
    "colab_type": "code",
    "id": "XVKX_xpA-rYP",
    "outputId": "aed67b13-e274-46ae-a042-06d21eecf1a5"
   },
   "outputs": [],
   "source": [
    "np.random.seed(0)\n",
    "\n",
    "n_epochs = 5\n",
    "\n",
    "model = model_ann()\n",
    "\n",
    "model.fit(input_train, output_train,\n",
    "          epochs=n_epochs,\n",
    "          batch_size=32,\n",
    "          shuffle=True)\n",
    "\n",
    "val = model.evaluate(input_val, output_val, verbose=False)\n",
    "test = model.evaluate(input_test, output_test, verbose=False)\n",
    "\n",
    "print('\\nDataset\\t loss\\t\\t accuracy')\n",
    "print('val\\t', '{0:.4f}'.format(val[0]), '\\t', '{0:.4f}'.format(val[1]))\n",
    "print('test\\t', '{0:.4f}'.format(test[0]), '\\t', '{0:.4f}'.format(test[1]))"
   ]
  },
  {
   "cell_type": "markdown",
   "metadata": {
    "colab_type": "text",
    "id": "B8fuaV9y-rYS"
   },
   "source": [
    "**EXPECTED OUTPUT** (may vary slightly)\n",
    "```\n",
    "Epoch 1/5\n",
    "5215/5215 [==============================] - 2s 328us/step - loss: 0.4492 - categorical_accuracy: 0.4276\n",
    "...\n",
    "Epoch 5/5\n",
    "5215/5215 [==============================] - 1s 252us/step - loss: 0.3614 - categorical_accuracy: 0.5528\n",
    "\n",
    "Dataset  loss   \t accuracy\n",
    "val \t 0.4203 \t 0.5147\n",
    "test\t 0.4869 \t 0.5042\n",
    "```"
   ]
  },
  {
   "cell_type": "markdown",
   "metadata": {
    "colab_type": "text",
    "id": "ut0mPnD--rYT"
   },
   "source": [
    "### Train ANN model with cross validation\n",
    "Train ANN model with cross validation, 5 training epochs, batch size of 32 with sample shuffling.\n",
    "\n",
    "**Note:** the actual output may be slightly different from the expected output"
   ]
  },
  {
   "cell_type": "code",
   "execution_count": null,
   "metadata": {
    "colab": {
     "base_uri": "https://localhost:8080/",
     "height": 183
    },
    "colab_type": "code",
    "id": "EOdfDBJa-rYT",
    "outputId": "5fee468b-c8cc-49dc-b1ae-7fe5fe77bfb7"
   },
   "outputs": [],
   "source": [
    "np.random.seed(0)\n",
    "\n",
    "n_epochs = 5\n",
    "\n",
    "models_ann, metrics_ann = cross_validation(paths, model_ann, epochs=n_epochs)\n",
    "\n",
    "# insert your code here"
   ]
  },
  {
   "cell_type": "code",
   "execution_count": null,
   "metadata": {
    "colab": {
     "base_uri": "https://localhost:8080/",
     "height": 267
    },
    "colab_type": "code",
    "id": "sas3ztj7-rYW",
    "outputId": "efa2b821-2367-46c0-bd4e-80e510d8f5e7"
   },
   "outputs": [],
   "source": [
    "np.random.seed(0)\n",
    "\n",
    "n_epochs = 5\n",
    "\n",
    "models_ann, metrics_ann = cross_validation(paths, model_ann, epochs=n_epochs)\n",
    "\n",
    "metrics, metrics_name = [metrics_ann, 'ann']\n",
    "\n",
    "print('\\nmin \\tmax \\tmean \\tstd \\t(accuracy)\\n')\n",
    "for item, item_name in [[np.array(metrics[1]), 'val'],\n",
    "                        [np.array(metrics[2]), 'test']]:\n",
    "  print('{0:.4f}'.format(np.min(item[:,1])),\n",
    "        '\\t{0:.4f}'.format(np.max(item[:,1])), \n",
    "        '\\t{0:.4f}'.format(np.mean(item[:,1])),\n",
    "        '\\t{0:.4f}\\t'.format(np.std(item[:,1])), item_name) "
   ]
  },
  {
   "cell_type": "markdown",
   "metadata": {
    "colab_type": "text",
    "id": "o7SrzHUq-rYW"
   },
   "source": [
    "**EXPECTED OUTPUT** (may vary slightly)\n",
    "```\n",
    "6 fold cross-validation\n",
    "\n",
    "acc val   acc test   fold\n",
    "\n",
    "0.4893    0.4246     1\n",
    "0.4713    0.4049     2\n",
    "0.5320    0.4551     3\n",
    "0.4880    0.4586     4\n",
    "0.5147    0.3661     5\n",
    "0.4993    0.5088     6\n",
    "\n",
    "min   \t max   \t mean   \tstd \t(accuracy)\n",
    "\n",
    "0.4713 \t0.5320 \t0.4991 \t0.0196\t val\n",
    "0.3661 \t0.5088 \t0.4363 \t0.0450\t test\n",
    "```"
   ]
  },
  {
   "cell_type": "markdown",
   "metadata": {
    "colab_type": "text",
    "id": "yv6KnbQTTXMu"
   },
   "source": [
    "## Model comparison"
   ]
  },
  {
   "cell_type": "markdown",
   "metadata": {
    "colab_type": "text",
    "id": "KL6c3sq2CYDH"
   },
   "source": [
    "### Plot train loss and accuracy for both model types\n",
    "Plot train and loss per epoch for each model type. Plot average evolution across model types.\n",
    "\n",
    "**Note:** the actual output may be slightly different from the expected output"
   ]
  },
  {
   "cell_type": "code",
   "execution_count": null,
   "metadata": {
    "colab": {},
    "colab_type": "code",
    "id": "imcpn_uUiF2a"
   },
   "outputs": [],
   "source": [
    "# insert your code here"
   ]
  },
  {
   "cell_type": "code",
   "execution_count": null,
   "metadata": {
    "colab": {
     "base_uri": "https://localhost:8080/",
     "height": 497
    },
    "colab_type": "code",
    "id": "EUiyxgXHOU07",
    "outputId": "3576a562-8e90-4daa-eb90-230434c00b68"
   },
   "outputs": [],
   "source": [
    "x_range = np.array(range(n_epochs)) + 1\n",
    "\n",
    "for metrics, metrics_name in [[metrics_softmax, 'softmax'],\n",
    "                              [metrics_ann, 'ann']]:\n",
    "\n",
    "  loss, acc = ([],[])\n",
    "\n",
    "  fig = plt.figure(figsize=(2*fig_w,fig_h))\n",
    "\n",
    "  ax1 = plt.subplot(1, 2, 1)\n",
    "  plt.title('Train loss ('+metrics_name+')')\n",
    "  plt.ylabel('Loss')\n",
    "  plt.xlabel('Epochs')\n",
    "\n",
    "  ax2 = plt.subplot(1, 2, 2)\n",
    "  plt.title('Train accuracy ('+metrics_name+')')\n",
    "  plt.ylabel('Accuracy')\n",
    "  plt.xlabel('Epochs')\n",
    "\n",
    "  for item in metrics[0]:\n",
    "\n",
    "    loss += [item['loss']]\n",
    "    acc += [item['categorical_accuracy']]\n",
    "\n",
    "    data = loss[-1]\n",
    "    ax1.plot(x_range, data, 'k-', alpha=0.4)\n",
    "\n",
    "    data = acc[-1]\n",
    "    ax2.plot(x_range, data, 'k-', alpha=0.4)\n",
    "\n",
    "  ax1.plot(x_range, np.mean(np.array(loss), axis=0), '-', \n",
    "           alpha=0.8, linewidth=4, label='mean')\n",
    "  ax1.legend()\n",
    "\n",
    "  ax2.plot(x_range, np.mean(np.array(acc), axis=0), '-', \n",
    "           alpha=0.8, linewidth=4, label='mean')\n",
    "  ax2.legend()\n",
    "\n",
    "  plt.tight_layout()"
   ]
  },
  {
   "cell_type": "markdown",
   "metadata": {
    "colab_type": "text",
    "id": "hvxOd5_9Pr3s"
   },
   "source": [
    "**EXPECTED OUTPUT** (may vary slightly)\n",
    "\n",
    "<img src=\"https://github.com/mpbrigham/colaboratory-figures/raw/master/sleep-scoring/model_softmax_train.png\" style=\"height: 350px;float: left;\">\n",
    "<img src=\"https://github.com/mpbrigham/colaboratory-figures/raw/master/sleep-scoring/model_ann_train.png\" style=\"height: 350px;float: left;\">"
   ]
  },
  {
   "cell_type": "markdown",
   "metadata": {
    "colab_type": "text",
    "id": "djTPjosBF8cS"
   },
   "source": [
    "### Compare train performance between both models\n",
    "Plot train and loss per epoch for each model type. Plot average evolution across model types.\n",
    "\n",
    "**Note:** the actual output may be slightly different from the expected output"
   ]
  },
  {
   "cell_type": "code",
   "execution_count": null,
   "metadata": {
    "colab": {},
    "colab_type": "code",
    "id": "2AgurP5oF8cU"
   },
   "outputs": [],
   "source": [
    "# insert your code here"
   ]
  },
  {
   "cell_type": "code",
   "execution_count": null,
   "metadata": {
    "colab": {
     "base_uri": "https://localhost:8080/",
     "height": 257
    },
    "colab_type": "code",
    "id": "KTC-Jlx5PsB0",
    "outputId": "73f30127-4c19-49bd-ed76-46a32ef21614"
   },
   "outputs": [],
   "source": [
    "loss, acc = ([],[])\n",
    "x_range = np.array(range(n_epochs)) + 1              \n",
    "  \n",
    "fig = plt.figure(figsize=(2*fig_w,fig_h))\n",
    "ax1 = plt.subplot(1, 2, 1)\n",
    "plt.title('Train loss')\n",
    "plt.ylabel('Loss')\n",
    "plt.xlabel('Epochs')\n",
    "ax2 = plt.subplot(1, 2, 2)\n",
    "plt.title('Train accuracy')\n",
    "plt.ylabel('Accuracy')\n",
    "plt.xlabel('Epochs')\n",
    "  \n",
    "for metrics, metrics_name in [[metrics_softmax, 'softmax'],\n",
    "                              [metrics_ann, 'ann']]:\n",
    "\n",
    "  loss, acc = ([],[])\n",
    "  for item in metrics[0]:\n",
    "\n",
    "    loss += [item['loss']]\n",
    "    acc += [item['categorical_accuracy']]\n",
    "\n",
    "    \n",
    "  ax1.plot(x_range, np.mean(loss, axis=0), '-', \n",
    "           alpha=0.8, linewidth=4, label=metrics_name)\n",
    "  \n",
    "  ax2.plot(x_range, np.mean(acc, axis=0), '-', \n",
    "           alpha=0.8, linewidth=4, label=metrics_name)\n",
    "  \n",
    "ax1.legend()\n",
    "ax2.legend()\n",
    "  \n",
    "plt.tight_layout()"
   ]
  },
  {
   "cell_type": "markdown",
   "metadata": {
    "colab_type": "text",
    "id": "R2cwlAb0OXof"
   },
   "source": [
    "**EXPECTED OUTPUT** (may vary slightly)\n",
    "\n",
    "<img src=\"https://github.com/mpbrigham/colaboratory-figures/raw/master/sleep-scoring/model_compare.png\" style=\"height: 350px;float: left;\">"
   ]
  },
  {
   "cell_type": "markdown",
   "metadata": {
    "colab_type": "text",
    "id": "spYJbIjQ-rYY"
   },
   "source": [
    "## Additional questions"
   ]
  },
  {
   "cell_type": "markdown",
   "metadata": {
    "colab_type": "text",
    "id": "KdhxWDtu-rYY"
   },
   "source": [
    "Make changes to the model and training data and investigate performance impacts.\n",
    "\n",
    "**Suggestions**\n",
    "* Try other types of activation units\n",
    "* Add additional hidden layers \n",
    "* Use different backprop optimizer\n",
    "* Change mini-batch size\n",
    "* Include additional polysomnograph channels \n",
    "* Use different data pre-processing operations\n",
    "* Use spectral input representation\n",
    "* Use models from cross validation to implement committee of networks with majority voting"
   ]
  }
 ],
 "metadata": {
  "accelerator": "GPU",
  "colab": {
   "collapsed_sections": [],
   "name": "Introduction to sleep scoring normalization ans.ipynb",
   "provenance": [],
   "version": "0.3.2"
  },
  "kernelspec": {
   "display_name": "Python 3",
   "language": "python",
   "name": "python3"
  },
  "language_info": {
   "codemirror_mode": {
    "name": "ipython",
    "version": 3
   },
   "file_extension": ".py",
   "mimetype": "text/x-python",
   "name": "python",
   "nbconvert_exporter": "python",
   "pygments_lexer": "ipython3",
   "version": "3.6.5"
  }
 },
 "nbformat": 4,
 "nbformat_minor": 1
}
