{
  "nbformat": 4,
  "nbformat_minor": 0,
  "metadata": {
    "colab": {
      "name": "Introduction to sleep scoring.ipynb",
      "version": "0.3.2",
      "provenance": [],
      "collapsed_sections": []
    },
    "kernelspec": {
      "name": "python3",
      "display_name": "Python 3"
    },
    "accelerator": "GPU"
  },
  "cells": [
    {
      "metadata": {
        "id": "vHrgZ1v6-rWG",
        "colab_type": "text"
      },
      "cell_type": "markdown",
      "source": [
        "## Morpheo baseline project\n",
        "# Introduction to sleep scoring\n",
        "[Colaboratory version](https://colab.research.google.com/drive/1o8sjVQrexX20cv3Ca5dA5TQz_ceSS-xp)"
      ]
    },
    {
      "metadata": {
        "id": "nhOCZABJ-rWG",
        "colab_type": "text"
      },
      "cell_type": "markdown",
      "source": [
        "Please execute the cell bellow to initialize the notebook environment"
      ]
    },
    {
      "metadata": {
        "id": "AMIGIf0k-rWH",
        "colab_type": "code",
        "colab": {
          "base_uri": "https://localhost:8080/",
          "height": 35
        },
        "outputId": "4cfd948c-3934-42ff-9c4f-c36482e8372e"
      },
      "cell_type": "code",
      "source": [
        "import numpy as np\n",
        "import scipy as sp\n",
        "import matplotlib.pyplot as plt\n",
        "import requests\n",
        "import h5py\n",
        "import keras\n",
        "\n",
        "plt.rcParams.update({'figure.figsize': (4.5, 3.5)})"
      ],
      "execution_count": 1,
      "outputs": [
        {
          "output_type": "stream",
          "text": [
            "Using TensorFlow backend.\n"
          ],
          "name": "stderr"
        }
      ]
    },
    {
      "metadata": {
        "id": "Oi82aFH_x7mU",
        "colab_type": "text"
      },
      "cell_type": "markdown",
      "source": [
        "Please execute the cell bellow to download the sleep scoring dataset (if needed)"
      ]
    },
    {
      "metadata": {
        "id": "1P5Gu-Okwcdr",
        "colab_type": "code",
        "colab": {}
      },
      "cell_type": "code",
      "source": [
        "!if [ ! -d ./datasets ]; then git clone https://github.com/mpbrigham/intro-sleep-scoring; \\\n",
        "                            cp -rf ./intro-sleep-scoring/datasets ./; fi"
      ],
      "execution_count": 0,
      "outputs": []
    },
    {
      "metadata": {
        "id": "JEMku0to-rWL",
        "colab_type": "text"
      },
      "cell_type": "markdown",
      "source": [
        "## Data visualization"
      ]
    },
    {
      "metadata": {
        "id": "Hz8J8pvO-rWL",
        "colab_type": "text"
      },
      "cell_type": "markdown",
      "source": [
        "### Import dataset\n",
        "Investigate the structure of polysomnography records in HDF5 format with `h5py` library.\n",
        "\n",
        "**Suggestions**\n",
        "* Open HDF5 database `mesa_sleep_0001_s.h5`\n",
        "* Print table names and shapes\n",
        "\n",
        "**Refs**\n",
        "* h5py: HDF5 for Python (http://docs.h5py.org/en/latest)"
      ]
    },
    {
      "metadata": {
        "id": "M1RGC5RF-rWL",
        "colab_type": "code",
        "colab": {}
      },
      "cell_type": "code",
      "source": [
        "path = './datasets/mesa_small/mesa_sleep_0001_s.h5'\n",
        "\n",
        "# insert your code here"
      ],
      "execution_count": 0,
      "outputs": []
    },
    {
      "metadata": {
        "id": "kZfNRiZU-rWQ",
        "colab_type": "text"
      },
      "cell_type": "markdown",
      "source": [
        "**EXPECTED OUTPUT**\n",
        "```\n",
        "table\t shape\n",
        "\n",
        "EEG1  \t (1439, 1920)\n",
        "EEG2  \t (1439, 1920)\n",
        "EEG3  \t (1439, 1920)\n",
        "EKG   \t (1439, 1920)\n",
        "EMG   \t (1439, 1920)\n",
        "EOG-L \t (1439, 1920)\n",
        "EOG-R \t (1439, 1920)\n",
        "stages\t (1439,)\n",
        "```"
      ]
    },
    {
      "metadata": {
        "id": "q7KtSbvk-rWR",
        "colab_type": "text"
      },
      "cell_type": "markdown",
      "source": [
        "### Data types\n",
        "Check data type of tables and their records for EEG tables (`EEG*`) and hypnogram table (`stages`).\n",
        "\n",
        "The hypnogram is split in 30 s intervals of recording, called *epochs*. Each epoch is assigned a sleep score.\n",
        "\n",
        "Print data type of EEG tables and their records."
      ]
    },
    {
      "metadata": {
        "id": "rHfzFfWq-rWR",
        "colab_type": "code",
        "colab": {}
      },
      "cell_type": "code",
      "source": [
        "print('table\\t table type\\t\\t\\t\\t record type\\n')\n",
        "\n",
        "# insert your code here"
      ],
      "execution_count": 0,
      "outputs": []
    },
    {
      "metadata": {
        "id": "PKboxvgV-rWW",
        "colab_type": "text"
      },
      "cell_type": "markdown",
      "source": [
        "**EXPECTED OUTPUT**\n",
        "```\n",
        "table\t table type\t\t\t\t              record type\n",
        "\n",
        "EEG1 \t <class 'h5py._hl.dataset.Dataset'> \t float32\n",
        "EEG2 \t <class 'h5py._hl.dataset.Dataset'> \t float32\n",
        "EEG3 \t <class 'h5py._hl.dataset.Dataset'> \t float32\n",
        "stages\t<class 'h5py._hl.dataset.Dataset'> \t int32\n",
        "```"
      ]
    },
    {
      "metadata": {
        "id": "3tTW4Jvk-rWX",
        "colab_type": "text"
      },
      "cell_type": "markdown",
      "source": [
        "### Convert data to Numpy arrays\n",
        "Export EEG channels to array `x` and hypnogram to array `y`.\n",
        "\n",
        "Print variable type of arrays `x` and `y`, and their contents.  \n",
        "\n",
        "**Suggestions**\n",
        "* Concatenate tables `EEG*` into array `x` with shape `(1439, 1920, 3)`\n",
        "* Save table `stages` into array `y` with shape `(1439, 1)`"
      ]
    },
    {
      "metadata": {
        "id": "zh5bFnvY-rWY",
        "colab_type": "code",
        "colab": {}
      },
      "cell_type": "code",
      "source": [
        "x, y = (None, None)\n",
        "\n",
        "print('var\\t var type\\t\\t\\t element type\\t var shape\\n')\n",
        "\n",
        "# insert your code here"
      ],
      "execution_count": 0,
      "outputs": []
    },
    {
      "metadata": {
        "id": "UArN6SKN-rWd",
        "colab_type": "text"
      },
      "cell_type": "markdown",
      "source": [
        "**EXPECTED OUTPUT**\n",
        "```\n",
        "var\t var type\t\t\t        element type\t var shape\n",
        "\n",
        "x \t  <type 'numpy.ndarray'> \t float32   \t   (1439, 1920, 3)\n",
        "y \t  <type 'numpy.ndarray'> \t int32 \t       (1439, 1)\n",
        "```"
      ]
    },
    {
      "metadata": {
        "id": "b0Wa1Xtz-rWe",
        "colab_type": "text"
      },
      "cell_type": "markdown",
      "source": [
        "### Visualize data\n",
        "Visualize data from EEG channels and hypnogram by plotting epoch 1000 of each.\n",
        "\n",
        "**Suggestions**\n",
        "* Use functions `plt.figure()` and `plt.plot()` from Matplotlib to plot first 200 samples of epoch 1001 of array `x`. Add a small value to each channel to separate them vertically.\n",
        "* Plot all samples from array `y`."
      ]
    },
    {
      "metadata": {
        "id": "PTR-CYjx-rWf",
        "colab_type": "code",
        "colab": {}
      },
      "cell_type": "code",
      "source": [
        "# insert your code here"
      ],
      "execution_count": 0,
      "outputs": []
    },
    {
      "metadata": {
        "id": "xQmE5lWqOlDM",
        "colab_type": "text"
      },
      "cell_type": "markdown",
      "source": [
        "**EXPECTED OUTPUT**\n",
        "\n",
        "<img src=\"https://github.com/mpbrigham/intro-sleep-scoring/raw/master/figures/Introduction_to_sleep_scoring/eeg_time.png\" style=\"float: left;\">\n",
        "<img src=\"https://github.com/mpbrigham/intro-sleep-scoring/raw/master/figures/Introduction_to_sleep_scoring/hypnogram_time.png\" style=\"float: left;\">"
      ]
    },
    {
      "metadata": {
        "id": "xTNTeAiX-rWm",
        "colab_type": "text"
      },
      "cell_type": "markdown",
      "source": [
        "### Visualize proportion of sleep stages\n",
        "\n",
        "Print unique elements of array y.\n",
        "\n",
        "Print sleep stage proportions with names provided in dictionary `y_name` given below."
      ]
    },
    {
      "metadata": {
        "id": "klnFW9q9-rWm",
        "colab_type": "code",
        "colab": {}
      },
      "cell_type": "code",
      "source": [
        "y_name = {0: 'AWA', 1:'N1', 2:'N2', 3:'N3', 4:'REM'}\n",
        "\n",
        "# insert your code here"
      ],
      "execution_count": 0,
      "outputs": []
    },
    {
      "metadata": {
        "id": "I34eQwRo-rWr",
        "colab_type": "text"
      },
      "cell_type": "markdown",
      "source": [
        "**EXPECTED OUTPUT**\n",
        "```\n",
        "unique elements of hypnogram: [0, 1, 2, 3, 4] \n",
        "\n",
        "AWA \t0.0000\n",
        "N1 \t0.0938\n",
        "N2 \t0.6324\n",
        "N3 \t0.0396\n",
        "REM \t0.2168\n",
        "```"
      ]
    },
    {
      "metadata": {
        "id": "K0Yd1eoh-rWt",
        "colab_type": "text"
      },
      "cell_type": "markdown",
      "source": [
        "### Visualize EEG samples per sleeping stage\n",
        "Visualize first 200 samples of EEG from 2nd epoch of each sleeping stage.\n",
        "\n",
        "**Suggestions**\n",
        "* Use function `np.where()` from Numpy to find relevant indexes in array `y`\n",
        "* Use functions `plt.subplot()` from Matplotlib to plot multiple plots in the same figure"
      ]
    },
    {
      "metadata": {
        "id": "VX-GX-2F-rWt",
        "colab_type": "code",
        "colab": {}
      },
      "cell_type": "code",
      "source": [
        "fig = plt.figure(figsize=(20,3.5))\n",
        "\n",
        "# insert your code here"
      ],
      "execution_count": 0,
      "outputs": []
    },
    {
      "metadata": {
        "id": "EhR8lG9q-rWw",
        "colab_type": "text"
      },
      "cell_type": "markdown",
      "source": [
        "**EXPECTED OUTPUT**\n",
        "<img src=\"https://github.com/mpbrigham/intro-sleep-scoring/raw/master/figures/Introduction_to_sleep_scoring/eeg_time_stage.png\" style=\"float: left;\">"
      ]
    },
    {
      "metadata": {
        "id": "E67MHyDS-rWx",
        "colab_type": "text"
      },
      "cell_type": "markdown",
      "source": [
        "## Data pre-processing"
      ]
    },
    {
      "metadata": {
        "id": "gBeOVyaW-rWy",
        "colab_type": "text"
      },
      "cell_type": "markdown",
      "source": [
        "### Basic statistical metrics\n",
        "Write function `print_stats()` to print minimum, maximum, mean and standard deviation of EEG channels in array `x`.\n",
        "\n",
        "Print unique elements of array `y` and their proportions.\n",
        "\n",
        "**Suggestions**\n",
        "* Use functions `np.min()`, `np.max()`, `np.mean()` and `np.std()` to print statistics of array `x`\n",
        "* Print table of sleep stage proportions in `y`"
      ]
    },
    {
      "metadata": {
        "id": "37iGu_cp-rWy",
        "colab_type": "code",
        "colab": {}
      },
      "cell_type": "code",
      "source": [
        "def print_stats(x, name='EEG'):\n",
        "    \"\"\"Print minimum, maximum, mean and standard deviation along dimension 0 of array.\n",
        "    x: array with shape (channel, batch, data)\n",
        "    \"\"\"     \n",
        "    print(name+'\\t min\\t\\t max\\t\\t mean\\t\\t std\\n')\n",
        "\n",
        "    # insert your code here"
      ],
      "execution_count": 0,
      "outputs": []
    },
    {
      "metadata": {
        "id": "cCttl-su-rW1",
        "colab_type": "code",
        "colab": {}
      },
      "cell_type": "code",
      "source": [
        "print_stats(x)"
      ],
      "execution_count": 0,
      "outputs": []
    },
    {
      "metadata": {
        "id": "XPZeXxBY-rW3",
        "colab_type": "text"
      },
      "cell_type": "markdown",
      "source": [
        "**EXPECTED OUTPUT**\n",
        "```\n",
        "EEG\t min\t\t max\t\t mean\t\tstd\n",
        "\n",
        "0 \t -2.6387 \t 2.6618 \t -0.0107 \t 0.1657\n",
        "1 \t -2.6356 \t 2.8187 \t 0.0856 \t 0.1954\n",
        "2 \t -6.5130 \t 6.2349 \t 0.0080 \t 0.6050\n",
        "```"
      ]
    },
    {
      "metadata": {
        "id": "ZlRGvaHm-rW3",
        "colab_type": "text"
      },
      "cell_type": "markdown",
      "source": [
        "### Plot histogram of EEG\n",
        "Plot histogram of EEG channels in array `x`.\n",
        "\n",
        "**Suggestions**\n",
        "* Use function `np.linspace()` from Numpy to define array `x_bins` with 100 successive values between -0.2 and 0.2.\n",
        "* Use function `plt.hist()` from Matplotlib to plot histogram of array `x`, using keyword `bins` to set bins location to `x_bins`"
      ]
    },
    {
      "metadata": {
        "id": "e-U2Dqvi-rW4",
        "colab_type": "code",
        "colab": {}
      },
      "cell_type": "code",
      "source": [
        "# insert your code here"
      ],
      "execution_count": 0,
      "outputs": []
    },
    {
      "metadata": {
        "id": "7W_yx0Z9-rW9",
        "colab_type": "text"
      },
      "cell_type": "markdown",
      "source": [
        "**EXPECTED OUTPUT**\n",
        "\n",
        "<img src=\"https://github.com/mpbrigham/intro-sleep-scoring/raw/master/figures/Introduction_to_sleep_scoring/eeg_histogram_pre.png\" style=\"height: 350px;float: left;\">"
      ]
    },
    {
      "metadata": {
        "id": "oWF5gNGO-rW9",
        "colab_type": "text"
      },
      "cell_type": "markdown",
      "source": [
        "### Remove mean from EEG data\n",
        "Write function `pre_process()` to remove channel mean from EEG channels.\n",
        "\n",
        "Apply function to array `x`, print basic statistical metrics and plot histogram.\n",
        "\n",
        "**Suggestions**\n",
        "* Use function `np.mean()` with keyword `keepdims` to measure mean of EEG channels\n",
        "* Remove mean of EEG channels from array `x`"
      ]
    },
    {
      "metadata": {
        "id": "mhAqDyt--rW-",
        "colab_type": "code",
        "colab": {}
      },
      "cell_type": "code",
      "source": [
        "def pre_process(x):\n",
        "    \"\"\"Remove channel mean from array x.\n",
        "    x: array with shape (channel, batch, data)\n",
        "    \n",
        "    returns x_out: array x with zero channel mean\n",
        "    \"\"\"\n",
        "    \n",
        "    x_out = x\n",
        "    \n",
        "    # insert your code here\n",
        "        \n",
        "    return x_out"
      ],
      "execution_count": 0,
      "outputs": []
    },
    {
      "metadata": {
        "id": "8mawMDza-rXB",
        "colab_type": "code",
        "colab": {}
      },
      "cell_type": "code",
      "source": [
        "x = pre_process(x)\n",
        "\n",
        "print_stats(x)\n",
        "\n",
        "# insert your code here"
      ],
      "execution_count": 0,
      "outputs": []
    },
    {
      "metadata": {
        "id": "8uPrWLiC-rXJ",
        "colab_type": "text"
      },
      "cell_type": "markdown",
      "source": [
        "**EXPECTED OUTPUT**\n",
        "```\n",
        "EEG\t min\t\t max\t\t mean\t\t std\n",
        "\n",
        "0 \t -2.6280 \t 2.6725 \t -0.0000 \t 0.1657\n",
        "1 \t -2.7213 \t 2.7331 \t -0.0000 \t 0.1954\n",
        "2 \t -6.5211 \t 6.2269 \t -0.0000 \t 0.6050\n",
        "```\n",
        "<img src=\"https://github.com/mpbrigham/intro-sleep-scoring/raw/master/figures/Introduction_to_sleep_scoring/eeg_histogram.png\" style=\"height: 350px;float: left;\">"
      ]
    },
    {
      "metadata": {
        "id": "eMUEu3uG-rXL",
        "colab_type": "text"
      },
      "cell_type": "markdown",
      "source": [
        "## Prepare data for training"
      ]
    },
    {
      "metadata": {
        "id": "TDdkiv-2-rXL",
        "colab_type": "text"
      },
      "cell_type": "markdown",
      "source": [
        "### Write data import function\n",
        "Write function `load_data()` to import EEG channels and hypnogram from HDF5 database."
      ]
    },
    {
      "metadata": {
        "id": "_Nv2ITDW-rXM",
        "colab_type": "code",
        "colab": {}
      },
      "cell_type": "code",
      "source": [
        "def load_data(path):\n",
        "    \"\"\"Import EEG channels and hypnogram from HDF5 database.\n",
        "    path: filesysWrite function `load_data()` to import EEG channels and hypnogram from HDF5 database.Write function `load_data()` to import EEG channels and hypnogram from HDF5 database.tem path of HDF5 database\n",
        "    \n",
        "    returns x: array containing EEG channels\n",
        "            y: array containing hypnogram\n",
        "    \"\"\"\n",
        "    \n",
        "    x = None\n",
        "    y = None\n",
        "    \n",
        "    # insert your code here\n",
        "        \n",
        "    return (x, y)"
      ],
      "execution_count": 0,
      "outputs": []
    },
    {
      "metadata": {
        "id": "oFexzCtY-rXO",
        "colab_type": "code",
        "colab": {}
      },
      "cell_type": "code",
      "source": [
        "path = './datasets/mesa_small/mesa_sleep_0002_s.h5'\n",
        "\n",
        "x, y = load_data(path)\n",
        "\n",
        "x = pre_process(x)\n",
        "\n",
        "if x is not None:\n",
        "    print(x[0,:5,0])\n",
        "    print(y[1000:1005])"
      ],
      "execution_count": 0,
      "outputs": []
    },
    {
      "metadata": {
        "id": "XiEUIl-u-rXQ",
        "colab_type": "text"
      },
      "cell_type": "markdown",
      "source": [
        "**EXPECTED OUTPUT**\n",
        "```\n",
        "[0.04396349 0.07795955 0.07226041 0.07493883 0.06915694]\n",
        "[[4]\n",
        " [4]\n",
        " [4]\n",
        " [4]\n",
        " [4]]\n",
        "```"
      ]
    },
    {
      "metadata": {
        "id": "ZKyNw8E--rXQ",
        "colab_type": "text"
      },
      "cell_type": "markdown",
      "source": [
        "### Import test set\n",
        "Import test set from HDF5 database `mesa_sleep_0021_s` into arrays `x_test` and `y_test`.\n",
        "\n",
        "Print shapes of the new arrays, and basic EEG stats from array `x_test`."
      ]
    },
    {
      "metadata": {
        "id": "UUGZOdi5-rXR",
        "colab_type": "code",
        "colab": {}
      },
      "cell_type": "code",
      "source": [
        "path = './datasets/mesa_small/mesa_sleep_0021_s.h5'\n",
        "\n",
        "x_test, y_test = load_data(path)\n",
        "\n",
        "x_test = pre_process(x_test)\n",
        "\n",
        "# insert your code here"
      ],
      "execution_count": 0,
      "outputs": []
    },
    {
      "metadata": {
        "id": "aCSE0chd-rXT",
        "colab_type": "text"
      },
      "cell_type": "markdown",
      "source": [
        "**EXPECTED OUTPUT**\n",
        "```\n",
        "var\t\t shape\n",
        "\n",
        "x_test \t (1079, 1920, 3)\n",
        "y_test \t (1079, 1)\n",
        "\n",
        "EEG\t min\t\t max\t\t mean\t\t std\n",
        "\n",
        "0 \t -1.9979 \t 0.6084 \t 0.0000 \t 0.0222\n",
        "1 \t -0.4698 \t 2.0072 \t 0.0000 \t 0.0380\n",
        "2 \t -5.0036 \t 1.0731 \t 0.0000 \t 0.0511\n",
        " ```"
      ]
    },
    {
      "metadata": {
        "id": "ctwovhWS-rXU",
        "colab_type": "text"
      },
      "cell_type": "markdown",
      "source": [
        "### Split dataset into train and validation sets\n",
        "Split arrays `x` and `y` into train and validation sets `x_train`, `x_val`, `y_train` and `y_val`. The validation set contains 300 epochs from each HDF5 database.\n",
        "\n",
        "Print the shapes of the new arrays.\n",
        "\n",
        "**Note:** the function `np.random.seed(0)` from Numpy is used to replicate the expected output.\n",
        "\n",
        "**Suggestions**\n",
        "* Create boolean array `idx` with 1439 elements initialized with `False` values\n",
        "* Use function `np.random.choice()` to randomly select (without replacement) 300 elements and set them to `True`\n",
        "* Split `x` into `x_train` and `x_val` according to array `idx`\n",
        "* Use function `np.random.seed(0)` from Numpy to replicate the expected output"
      ]
    },
    {
      "metadata": {
        "id": "hySd88UE-rXV",
        "colab_type": "code",
        "colab": {}
      },
      "cell_type": "code",
      "source": [
        "np.random.seed(0)\n",
        "\n",
        "x_val = None\n",
        "y_val = None\n",
        "x_train = None\n",
        "y_train = None\n",
        "\n",
        "# insert your code here"
      ],
      "execution_count": 0,
      "outputs": []
    },
    {
      "metadata": {
        "id": "0KhYQNWS-rXY",
        "colab_type": "text"
      },
      "cell_type": "markdown",
      "source": [
        "**EXPECTED OUTPUT**\n",
        "```\n",
        "var\t\t shape\n",
        "\n",
        "x_train \t (1019, 1920, 3)\n",
        "y_train \t (1019, 1)\n",
        "x_val   \t (300, 1920, 3)\n",
        "y_val   \t (300, 1)\n",
        "```"
      ]
    },
    {
      "metadata": {
        "id": "jwOlQkNf-rXY",
        "colab_type": "text"
      },
      "cell_type": "markdown",
      "source": [
        "### Generate train and validation sets\n",
        "Create train and validation sets in arrays `x_train`, `y_train`, `x_val` and `y_val` from HDF5 databases `mesa_sleep_0001_s`, `mesa_sleep_0002_s`, `mesa_sleep_0006_s`, `mesa_sleep_0014_s` and `mesa_sleep_0016_s`.\n",
        "\n",
        "Print the shapes of train and validation datasets. Print basic statistical metrics of array `x_train`."
      ]
    },
    {
      "metadata": {
        "id": "hWv9uU6H-rXZ",
        "colab_type": "code",
        "colab": {}
      },
      "cell_type": "code",
      "source": [
        "np.random.seed(0)\n",
        "\n",
        "paths = ['./datasets/mesa_small/mesa_sleep_0001_s.h5', \n",
        "         './datasets/mesa_small/mesa_sleep_0002_s.h5',\n",
        "         './datasets/mesa_small/mesa_sleep_0006_s.h5', \n",
        "         './datasets/mesa_small/mesa_sleep_0014_s.h5',\n",
        "         './datasets/mesa_small/mesa_sleep_0016_s.h5']\n",
        "\n",
        "# insert your code here"
      ],
      "execution_count": 0,
      "outputs": []
    },
    {
      "metadata": {
        "id": "bR9PjA60-rXh",
        "colab_type": "text"
      },
      "cell_type": "markdown",
      "source": [
        "**EXPECTED OUTPUT**\n",
        "```\n",
        "var \t\tshape\n",
        "\n",
        "x_train \t (5215, 1920, 3)\n",
        "y_train \t (5215, 1)\n",
        "x_val   \t (1500, 1920, 3)\n",
        "y_val   \t (1500, 1)\n",
        "\n",
        "EEG\t min\t\t max\t\t mean\t\t std\n",
        "\n",
        "0 \t -2.7610 \t 2.7743 \t 0.0002 \t 0.1589\n",
        "1 \t -2.7251 \t 2.7513 \t 0.0001 \t 0.4217\n",
        "2 \t -6.7197 \t 6.6099 \t 0.0006 \t 0.4857\n",
        "```"
      ]
    },
    {
      "metadata": {
        "id": "6_FygUB9-rXl",
        "colab_type": "text"
      },
      "cell_type": "markdown",
      "source": [
        "## Model setup"
      ]
    },
    {
      "metadata": {
        "id": "GqNSX_1T-rXl",
        "colab_type": "text"
      },
      "cell_type": "markdown",
      "source": [
        "### Write input/output conversion functions\n",
        "Write function `to_input()` to convert EEG data into 2-dimensional array by concatenating EEG channels on dimension 1.\n",
        "\n",
        "i.e array `x_train` with shape `(5215, 1920, 3)` is mapped to array with shape `(5215, 5760)`.\n",
        "\n",
        "Write function `to_output()` to sleep scores into binarized `one-hot-encoding`, using function `keras.utils.to_categorical()` from Keras library. This transformation assigns score `0` to `[1 0 0 0 0]`, score `1` to  `[0 1 0 0 0]`, etc.\n",
        "\n",
        "i.e array `y_train` with shape `(5215, 1)` is mapped to array with shape `(5215, 5)`."
      ]
    },
    {
      "metadata": {
        "id": "3yDtwchi-rXm",
        "colab_type": "code",
        "colab": {}
      },
      "cell_type": "code",
      "source": [
        "from keras import backend as K\n",
        "from keras.layers import Input, Dense, Layer\n",
        "from keras.models import Sequential\n",
        "\n",
        "def to_input(x):\n",
        "    \"\"\"Convert data array to shape (batch, data).\n",
        "    x: array with shape (channel, batch, data)\n",
        "    \n",
        "    returns x_out: array x with shape (batch, data)\n",
        "    \"\"\"\n",
        "    \n",
        "    x_out = None\n",
        "    \n",
        "    # insert your code here\n",
        "    \n",
        "    return x_out\n",
        "\n",
        "def to_output(y):\n",
        "    \"\"\"Convert label array to one-hot-encoding with shape (batch, data).\n",
        "    y: label array with shape (1, batch)\n",
        "    \n",
        "    returns: y_out (array with shape (batch, label))\n",
        "    \"\"\"\n",
        "    \n",
        "    y_out = None\n",
        "    \n",
        "    # insert your code here\n",
        "   \n",
        "    return y_out"
      ],
      "execution_count": 0,
      "outputs": []
    },
    {
      "metadata": {
        "id": "ogF9qq3N-rXq",
        "colab_type": "code",
        "colab": {}
      },
      "cell_type": "code",
      "source": [
        "if to_input(x_train) is not None:\n",
        "    \n",
        "    print('var\\t\\t\\t shape\\n')\n",
        "    for item, item_name in ([[to_input(x_train), 'to_input(x_train)'],\n",
        "                             [to_output(y_train), 'to_output(y_train)']]):\n",
        "        print(item_name, '\\t', item.shape)\n",
        "\n",
        "    print('\\n')\n",
        "    print(to_input(x_train)[:2])\n",
        "    print(to_output(y_train)[:2])"
      ],
      "execution_count": 0,
      "outputs": []
    },
    {
      "metadata": {
        "id": "M8xP_lRJ-rXt",
        "colab_type": "text"
      },
      "cell_type": "markdown",
      "source": [
        "**EXPECTED OUTPUT**\n",
        "```\n",
        "var\t\t\t shape\n",
        "\n",
        "to_input(x_train) \t (5215, 5760)\n",
        "to_output(y_train) \t (5215, 5)\n",
        "\n",
        "\n",
        "[[ 0.00099635  0.0048069   0.00776085 ...  0.00423072 -0.00867984\n",
        "   0.02381653]\n",
        " [ 0.00212982  0.00123634 -0.00316261 ...  0.01105075  0.03953509\n",
        "   0.04564268]]\n",
        "[[1. 0. 0. 0. 0.]\n",
        " [1. 0. 0. 0. 0.]]\n",
        " ```"
      ]
    },
    {
      "metadata": {
        "id": "NCsNjhUL-rXu",
        "colab_type": "text"
      },
      "cell_type": "markdown",
      "source": [
        "### Convert datasets to network input/output format\n",
        "Convert datasets into format compatible with network using functions `to_input()` and `to_output()`.\n",
        "\n",
        "Print shapes of the new arrays."
      ]
    },
    {
      "metadata": {
        "id": "6CqIvNm2-rXv",
        "colab_type": "code",
        "colab": {}
      },
      "cell_type": "code",
      "source": [
        "input_train = to_input(x_train)\n",
        "input_val = to_input(x_val)\n",
        "input_test = to_input(x_test)\n",
        "\n",
        "output_train = to_output(y_train)\n",
        "output_val = to_output(y_val)\n",
        "output_test = to_output(y_test)\n",
        "\n",
        "if input_train is not None:\n",
        "    input_shape = input_train.shape[1]\n",
        "    output_shape = output_train.shape[1]\n",
        "\n",
        "print('var\\t\\t shape\\n')\n",
        "\n",
        "# insert your code here"
      ],
      "execution_count": 0,
      "outputs": []
    },
    {
      "metadata": {
        "id": "oYOCZR7M-rX0",
        "colab_type": "text"
      },
      "cell_type": "markdown",
      "source": [
        "**EXPECTED OUTPUT**\n",
        "```\n",
        "var\t\t shape\n",
        "\n",
        "input_train \t (5215, 5760)\n",
        "input_val   \t (1500, 5760)\n",
        "input_test  \t (1079, 5760)\n",
        "output_train\t (5215, 5)\n",
        "output_val \t  (1500, 5)\n",
        "output_test \t (1079, 5)\n",
        "```"
      ]
    },
    {
      "metadata": {
        "id": "BSVhus1X-rX0",
        "colab_type": "text"
      },
      "cell_type": "markdown",
      "source": [
        "### Softmax model\n",
        "Implement simple network with softmax output layer with library Keras (https://keras.io/).\n",
        "\n",
        "Write function `model_softmax()` that returns the compiled model.\n",
        "\n",
        "Use adadelta optimizer, binary crossentropy loss and categorical accuracy metric."
      ]
    },
    {
      "metadata": {
        "id": "SItgi0iU-rX1",
        "colab_type": "code",
        "colab": {}
      },
      "cell_type": "code",
      "source": [
        "def model_softmax():\n",
        "    \"\"\"Define softmax network\n",
        "    \n",
        "    returns m: Keras model with softmax output\n",
        "    \"\"\"\n",
        "    \n",
        "    m = None\n",
        "    \n",
        "    # insert your code here\n",
        "    \n",
        "    return m"
      ],
      "execution_count": 0,
      "outputs": []
    },
    {
      "metadata": {
        "id": "BmFnPFxG-rX5",
        "colab_type": "code",
        "colab": {}
      },
      "cell_type": "code",
      "source": [
        "model = model_softmax()\n",
        "\n",
        "if model is not None:\n",
        "    model.summary()"
      ],
      "execution_count": 0,
      "outputs": []
    },
    {
      "metadata": {
        "id": "NqGdMr8b-rX9",
        "colab_type": "text"
      },
      "cell_type": "markdown",
      "source": [
        "**EXPECTED OUTPUT**\n",
        "```\n",
        "_________________________________________________________________\n",
        "Layer (type)                 Output Shape              Param #   \n",
        "=================================================================\n",
        "input (Layer)                (None, 5760)              0         \n",
        "_________________________________________________________________\n",
        "output (Dense)               (None, 5)                 28805     \n",
        "=================================================================\n",
        "Total params: 28,805\n",
        "Trainable params: 28,805\n",
        "Non-trainable params: 0\n",
        "_________________________________________________________________\n",
        "```"
      ]
    },
    {
      "metadata": {
        "id": "k0Kq-hEI-rX9",
        "colab_type": "text"
      },
      "cell_type": "markdown",
      "source": [
        "### Train softmax model\n",
        "Train softmax network during 5 training epochs, batch size of 32 with sample shuffling.\n",
        "\n",
        "**Suggestions**\n",
        "* Use method `fit()` with keywords `epochs`, `batch_size` and `shuffle` to train model\n",
        "* Use method `evaluate()` to evaluate performance metrics in validation and test sets"
      ]
    },
    {
      "metadata": {
        "id": "DXfulPGK-rX-",
        "colab_type": "code",
        "colab": {}
      },
      "cell_type": "code",
      "source": [
        "np.random.seed(0)\n",
        "\n",
        "n_epochs = 5\n",
        "\n",
        "model = model_softmax()\n",
        "\n",
        "# insert your code here"
      ],
      "execution_count": 0,
      "outputs": []
    },
    {
      "metadata": {
        "id": "8IoEYUkF-rYD",
        "colab_type": "text"
      },
      "cell_type": "markdown",
      "source": [
        "**EXPECTED OUTPUT**\n",
        "```\n",
        "Epoch 1/5\n",
        "5215/5215 [==============================] - 2s 295us/step - loss: 0.5193 - categorical_accuracy: 0.3342\n",
        "...\n",
        "Epoch 5/5\n",
        "5215/5215 [==============================] - 1s 162us/step - loss: 0.4387 - categorical_accuracy: 0.4086\n",
        "\n",
        "Dataset      loss\t\t accuracy\n",
        "val      \t 0.4674 \t 0.3487\n",
        "test     \t 0.5068 \t 0.1168\n",
        "```"
      ]
    },
    {
      "metadata": {
        "id": "3LBp8wJq-rYE",
        "colab_type": "text"
      },
      "cell_type": "markdown",
      "source": [
        "### Performance evaluation with cross validation\n",
        "Estimate model performance on unseen data with function `cross_validation()` that implements *leave-one-out cross validation*. In this  performance evaluation scheme the original dataset is split in `K` sets or *folds*. The model is succesfully trained in `K-1` sets and tested on the remaining set. In this case, a set corresponds to a database."
      ]
    },
    {
      "metadata": {
        "id": "pymqS7wJ-rYE",
        "colab_type": "code",
        "colab": {}
      },
      "cell_type": "code",
      "source": [
        "def cross_validation(paths, model_ref, epochs=5, verbose=True):\n",
        "    \"\"\"Leave-one-out cross validation scheme at database level\n",
        "    paths: list containing paths of HDF5 databases\n",
        "    model_ref: Keras model\n",
        "    epochs: number of training epochs\n",
        "    verbose: print intermediate results\n",
        "    \n",
        "    returns models: list with trained Keras models\n",
        "            metrics: list with validation and test accuracy\n",
        "            \n",
        "    \"\"\"\n",
        "    \n",
        "    models = []\n",
        "    metrics = []\n",
        "    \n",
        "    # insert your code here\n",
        "    \n",
        "    return (models, metrics)"
      ],
      "execution_count": 0,
      "outputs": []
    },
    {
      "metadata": {
        "id": "Ho2TeSCx-rYF",
        "colab_type": "text"
      },
      "cell_type": "markdown",
      "source": [
        "### Train softmax model with cross validation\n",
        "Train softmax model with cross validation, 5 training epochs, batch size of 32 with sample shuffling."
      ]
    },
    {
      "metadata": {
        "id": "Lzc3TUDw-rYF",
        "colab_type": "code",
        "colab": {}
      },
      "cell_type": "code",
      "source": [
        "paths = ['./datasets/mesa_small//mesa_sleep_0001_s.h5', \n",
        "         './datasets/mesa_small//mesa_sleep_0002_s.h5',\n",
        "         './datasets/mesa_small//mesa_sleep_0006_s.h5', \n",
        "         './datasets/mesa_small//mesa_sleep_0014_s.h5',\n",
        "         './datasets/mesa_small//mesa_sleep_0016_s.h5', \n",
        "         './datasets/mesa_small//mesa_sleep_0021_s.h5']\n",
        "\n",
        "np.random.seed(0)\n",
        "    \n",
        "models, model_test = cross_validation(paths, model_softmax, epochs=n_epochs)\n",
        "s\n",
        "# insert your code here"
      ],
      "execution_count": 0,
      "outputs": []
    },
    {
      "metadata": {
        "id": "U_bR2Spr-rYH",
        "colab_type": "text"
      },
      "cell_type": "markdown",
      "source": [
        "**EXPECTED OUTPUT**\n",
        "```\n",
        "6 fold cross-validation\n",
        "\n",
        "acc val   acc test   fold\n",
        "\n",
        "0.3753    0.3912     1\n",
        "0.3333    0.3601     2\n",
        "0.3000    0.3031     3\n",
        "0.4060    0.3300     4\n",
        "0.3327    0.3011     5\n",
        "0.3513    0.1158     6\n",
        "\n",
        "min   \t max   \t mean   \tstd \t(accuracy)\n",
        "\n",
        "0.3000 \t0.4060 \t0.3498 \t0.0338\t val\n",
        "0.1158 \t0.3912 \t0.3002 \t0.0883\t test\n",
        "```"
      ]
    },
    {
      "metadata": {
        "id": "XtrBOZwe-rYJ",
        "colab_type": "text"
      },
      "cell_type": "markdown",
      "source": [
        "### ANN model\n",
        "Implement ANN model with single hidden layer with 256 ReLU units and softmax output.\n",
        "\n",
        "Write function `model_ann()` that returns the compiled model.\n",
        "\n",
        "Use adadelta optimizer, binary crossentropy loss and categorical accuracy metric."
      ]
    },
    {
      "metadata": {
        "id": "i3pJOMM4-rYJ",
        "colab_type": "code",
        "colab": {}
      },
      "cell_type": "code",
      "source": [
        "def model_ann():\n",
        "    \"\"\"Define shallow ANN model\n",
        "    \n",
        "    returns m: shallow ANN Keras model\n",
        "    \"\"\"\n",
        "    \n",
        "    m = None\n",
        "    \n",
        "    # insert your code here\n",
        "    \n",
        "    return m"
      ],
      "execution_count": 0,
      "outputs": []
    },
    {
      "metadata": {
        "id": "rAE_tGOT-rYL",
        "colab_type": "code",
        "colab": {}
      },
      "cell_type": "code",
      "source": [
        "model = model_ann()\n",
        "\n",
        "if model is not None:\n",
        "    model.summary()"
      ],
      "execution_count": 0,
      "outputs": []
    },
    {
      "metadata": {
        "id": "bATY20fn-rYO",
        "colab_type": "text"
      },
      "cell_type": "markdown",
      "source": [
        "**EXPECTED OUTPUT**\n",
        "```\n",
        "_________________________________________________________________\n",
        "Layer (type)                 Output Shape              Param #   \n",
        "=================================================================\n",
        "input (Layer)                (None, 5760)              0         \n",
        "_________________________________________________________________\n",
        "h1 (Dense)                   (None, 256)               1474816   \n",
        "_________________________________________________________________\n",
        "output (Dense)               (None, 5)                 1285      \n",
        "=================================================================\n",
        "Total params: 1,476,101\n",
        "Trainable params: 1,476,101\n",
        "Non-trainable params: 0\n",
        "_________________________________________________________________\n",
        "```"
      ]
    },
    {
      "metadata": {
        "id": "mxJgT9fb-rYP",
        "colab_type": "text"
      },
      "cell_type": "markdown",
      "source": [
        "### Train ANN model\n",
        "Train ANN model during 5 training epochs, batch size of 32 with sample shuffling.\n",
        "\n",
        "**Note:** the actual output may be slightly different from the expected output"
      ]
    },
    {
      "metadata": {
        "id": "qKm1yCEz-rYP",
        "colab_type": "code",
        "colab": {}
      },
      "cell_type": "code",
      "source": [
        "np.random.seed(0)\n",
        "\n",
        "n_epochs = 5\n",
        "\n",
        "model = model_ann()\n",
        "\n",
        "# insert your code here"
      ],
      "execution_count": 0,
      "outputs": []
    },
    {
      "metadata": {
        "id": "B8fuaV9y-rYS",
        "colab_type": "text"
      },
      "cell_type": "markdown",
      "source": [
        "**EXPECTED OUTPUT** (may vary slightly)\n",
        "```\n",
        "Epoch 1/5\n",
        "5215/5215 [==============================] - 2s 328us/step - loss: 0.4492 - categorical_accuracy: 0.4276\n",
        "...\n",
        "Epoch 5/5\n",
        "5215/5215 [==============================] - 1s 252us/step - loss: 0.3614 - categorical_accuracy: 0.5528\n",
        "\n",
        "Dataset\t loss\t\t accuracy\n",
        "val    \t 0.4168 \t 0.5080\n",
        "test   \t 0.4888 \t 0.4847\n",
        "```"
      ]
    },
    {
      "metadata": {
        "id": "ut0mPnD--rYT",
        "colab_type": "text"
      },
      "cell_type": "markdown",
      "source": [
        "### Train ANN model with cross validation\n",
        "Train ANN model with cross validation, 5 training epochs, batch size of 32 with sample shuffling.\n",
        "\n",
        "**Note:** the actual output may be slightly different from the expected output"
      ]
    },
    {
      "metadata": {
        "id": "EOdfDBJa-rYT",
        "colab_type": "code",
        "colab": {}
      },
      "cell_type": "code",
      "source": [
        "np.random.seed(0)\n",
        "\n",
        "models, model_test = cross_validation(paths, model_ann, epochs=n_epochs)\n",
        "\n",
        "# insert your code here"
      ],
      "execution_count": 0,
      "outputs": []
    },
    {
      "metadata": {
        "id": "o7SrzHUq-rYW",
        "colab_type": "text"
      },
      "cell_type": "markdown",
      "source": [
        "**EXPECTED OUTPUT** (may vary slightly)\n",
        "```\n",
        "6 fold cross-validation\n",
        "\n",
        "acc val   acc test   fold\n",
        "\n",
        "0.4893    0.4246     1\n",
        "0.4713    0.4049     2\n",
        "0.5320    0.4551     3\n",
        "0.4880    0.4586     4\n",
        "0.5147    0.3661     5\n",
        "0.4993    0.5088     6\n",
        "\n",
        "min   \t max   \t mean   \tstd \t(accuracy)\n",
        "\n",
        "0.4713 \t0.5320 \t0.4991 \t0.0196\t val\n",
        "0.3661 \t0.5088 \t0.4363 \t0.0450\t test\n",
        "```"
      ]
    },
    {
      "metadata": {
        "id": "spYJbIjQ-rYY",
        "colab_type": "text"
      },
      "cell_type": "markdown",
      "source": [
        "## Additional questions"
      ]
    },
    {
      "metadata": {
        "id": "KdhxWDtu-rYY",
        "colab_type": "text"
      },
      "cell_type": "markdown",
      "source": [
        "Make changes to the model and training data and investigate performance impacts.\n",
        "\n",
        "**Suggestions**\n",
        "* Try other types of activation units\n",
        "* Add additional hidden layers \n",
        "* Use different backprop optimizer\n",
        "* Change mini-batch size\n",
        "* Include additional polysomnograph channels \n",
        "* Use different data pre-processing operations\n",
        "* Use spectral input representation\n",
        "* Use models from cross validation to implement committee of networks with majority voting"
      ]
    }
  ]
}